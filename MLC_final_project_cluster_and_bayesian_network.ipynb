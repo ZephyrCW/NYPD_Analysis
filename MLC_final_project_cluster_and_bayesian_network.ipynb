{
  "cells": [
    {
      "cell_type": "code",
      "execution_count": null,
      "id": "2d36f03f",
      "metadata": {
        "id": "2d36f03f"
      },
      "outputs": [],
      "source": [
        "import pandas as pd\n",
        "import numpy as np\n",
        "import geopandas as gpd\n",
        "import matplotlib.pyplot as plt\n",
        "from sklearn.datasets import make_blobs\n",
        "from sklearn.cluster import KMeans\n",
        "from sklearn.metrics import silhouette_score\n",
        "from sklearn.preprocessing import StandardScaler\n",
        "from pgmpy.estimators import K2Score, BicScore, BDeuScore\n",
        "from pgmpy.models import BayesianModel\n",
        "from pgmpy.estimators import HillClimbSearch\n",
        "from pgmpy.estimators import BayesianEstimator"
      ]
    },
    {
      "cell_type": "code",
      "execution_count": null,
      "id": "738baa95",
      "metadata": {
        "id": "738baa95"
      },
      "outputs": [],
      "source": [
        "offense = pd.read_csv('NYPD_Complaint_Data_Current__Year_To_Date_.csv')\n",
        "offmap = gpd.read_file('NYPD_Complaint_Map__Year_to_Date_.csv')\n",
        "offmap.crs = 'epsg:4326'"
      ]
    },
    {
      "cell_type": "code",
      "execution_count": null,
      "id": "4aac4718",
      "metadata": {
        "id": "4aac4718",
        "outputId": "69c8893f-f810-4a2f-c12e-7a2bc29bc3bb"
      },
      "outputs": [
        {
          "data": {
            "text/plain": [
              "Index(['CMPLNT_NUM', 'ADDR_PCT_CD', 'BORO_NM', 'CMPLNT_FR_DT', 'CMPLNT_FR_TM',\n",
              "       'CMPLNT_TO_DT', 'CMPLNT_TO_TM', 'CRM_ATPT_CPTD_CD', 'HADEVELOPT',\n",
              "       'HOUSING_PSA', 'JURISDICTION_CODE', 'JURIS_DESC', 'KY_CD', 'LAW_CAT_CD',\n",
              "       'LOC_OF_OCCUR_DESC', 'OFNS_DESC', 'PARKS_NM', 'PATROL_BORO', 'PD_CD',\n",
              "       'PD_DESC', 'PREM_TYP_DESC', 'RPT_DT', 'STATION_NAME', 'SUSP_AGE_GROUP',\n",
              "       'SUSP_RACE', 'SUSP_SEX', 'TRANSIT_DISTRICT', 'VIC_AGE_GROUP',\n",
              "       'VIC_RACE', 'VIC_SEX', 'X_COORD_CD', 'Y_COORD_CD', 'Latitude',\n",
              "       'Longitude', 'Lat_Lon', 'New Georeferenced Column'],\n",
              "      dtype='object')"
            ]
          },
          "execution_count": 95,
          "metadata": {},
          "output_type": "execute_result"
        }
      ],
      "source": [
        "offense.columns.unique()"
      ]
    },
    {
      "cell_type": "code",
      "execution_count": null,
      "id": "09f3462f",
      "metadata": {
        "id": "09f3462f"
      },
      "outputs": [],
      "source": [
        "offense1 = offense[['BORO_NM','CMPLNT_FR_DT','CMPLNT_FR_TM','LAW_CAT_CD','OFNS_DESC','SUSP_RACE','Lat_Lon']]\n",
        "offense1 = offense1.dropna()"
      ]
    },
    {
      "cell_type": "code",
      "execution_count": null,
      "id": "7ceea33b",
      "metadata": {
        "id": "7ceea33b",
        "outputId": "15438af5-3058-4120-c77b-90950c322683"
      },
      "outputs": [
        {
          "data": {
            "text/html": [
              "<div>\n",
              "<style scoped>\n",
              "    .dataframe tbody tr th:only-of-type {\n",
              "        vertical-align: middle;\n",
              "    }\n",
              "\n",
              "    .dataframe tbody tr th {\n",
              "        vertical-align: top;\n",
              "    }\n",
              "\n",
              "    .dataframe thead th {\n",
              "        text-align: right;\n",
              "    }\n",
              "</style>\n",
              "<table border=\"1\" class=\"dataframe\">\n",
              "  <thead>\n",
              "    <tr style=\"text-align: right;\">\n",
              "      <th></th>\n",
              "      <th>CMPLNT_NUM</th>\n",
              "      <th>ADDR_PCT_CD</th>\n",
              "      <th>BORO_NM</th>\n",
              "      <th>CMPLNT_FR_DT</th>\n",
              "      <th>CMPLNT_FR_TM</th>\n",
              "      <th>CMPLNT_TO_DT</th>\n",
              "      <th>CMPLNT_TO_TM</th>\n",
              "      <th>CRM_ATPT_CPTD_CD</th>\n",
              "      <th>HADEVELOPT</th>\n",
              "      <th>JURIS_DESC</th>\n",
              "      <th>...</th>\n",
              "      <th>PD_CD</th>\n",
              "      <th>PD_DESC</th>\n",
              "      <th>PREM_TYP_DESC</th>\n",
              "      <th>RPT_DT</th>\n",
              "      <th>Lat_Lon</th>\n",
              "      <th>X_COORD_CD</th>\n",
              "      <th>Y_COORD_CD</th>\n",
              "      <th>Latitude</th>\n",
              "      <th>Longitude</th>\n",
              "      <th>geometry</th>\n",
              "    </tr>\n",
              "  </thead>\n",
              "  <tbody>\n",
              "    <tr>\n",
              "      <th>0</th>\n",
              "      <td>903695881</td>\n",
              "      <td>69</td>\n",
              "      <td></td>\n",
              "      <td>12/17/2021</td>\n",
              "      <td>22:13:00</td>\n",
              "      <td></td>\n",
              "      <td></td>\n",
              "      <td>COMPLETED</td>\n",
              "      <td></td>\n",
              "      <td>N.Y. POLICE DEPT</td>\n",
              "      <td>...</td>\n",
              "      <td></td>\n",
              "      <td></td>\n",
              "      <td></td>\n",
              "      <td>12/17/2021</td>\n",
              "      <td>POINT (-73.90287588699994 40.64564719600002)</td>\n",
              "      <td>1011203</td>\n",
              "      <td>174515</td>\n",
              "      <td>40.64564719600002</td>\n",
              "      <td>-73.90287588699994</td>\n",
              "      <td>None</td>\n",
              "    </tr>\n",
              "    <tr>\n",
              "      <th>1</th>\n",
              "      <td>400462399</td>\n",
              "      <td>113</td>\n",
              "      <td></td>\n",
              "      <td>12/17/2021</td>\n",
              "      <td>06:21:00</td>\n",
              "      <td></td>\n",
              "      <td></td>\n",
              "      <td>COMPLETED</td>\n",
              "      <td></td>\n",
              "      <td>N.Y. POLICE DEPT</td>\n",
              "      <td>...</td>\n",
              "      <td></td>\n",
              "      <td></td>\n",
              "      <td></td>\n",
              "      <td>12/17/2021</td>\n",
              "      <td>POINT (-73.78726915499993 40.682499421000045)</td>\n",
              "      <td>1043252</td>\n",
              "      <td>187998</td>\n",
              "      <td>40.682499421000045</td>\n",
              "      <td>-73.78726915499993</td>\n",
              "      <td>None</td>\n",
              "    </tr>\n",
              "    <tr>\n",
              "      <th>2</th>\n",
              "      <td>587910690</td>\n",
              "      <td>113</td>\n",
              "      <td></td>\n",
              "      <td>12/13/2021</td>\n",
              "      <td>20:05:00</td>\n",
              "      <td></td>\n",
              "      <td></td>\n",
              "      <td>COMPLETED</td>\n",
              "      <td></td>\n",
              "      <td>N.Y. POLICE DEPT</td>\n",
              "      <td>...</td>\n",
              "      <td></td>\n",
              "      <td></td>\n",
              "      <td></td>\n",
              "      <td>12/13/2021</td>\n",
              "      <td>POINT (-73.79144856999993 40.689218058000044)</td>\n",
              "      <td>1042087</td>\n",
              "      <td>190443</td>\n",
              "      <td>40.689218058000044</td>\n",
              "      <td>-73.79144856999993</td>\n",
              "      <td>None</td>\n",
              "    </tr>\n",
              "    <tr>\n",
              "      <th>3</th>\n",
              "      <td>186105368</td>\n",
              "      <td>52</td>\n",
              "      <td>BRONX</td>\n",
              "      <td>12/07/2021</td>\n",
              "      <td>22:49:00</td>\n",
              "      <td></td>\n",
              "      <td></td>\n",
              "      <td>COMPLETED</td>\n",
              "      <td></td>\n",
              "      <td>N.Y. POLICE DEPT</td>\n",
              "      <td>...</td>\n",
              "      <td>792</td>\n",
              "      <td>WEAPONS POSSESSION 1 &amp; 2</td>\n",
              "      <td>STREET</td>\n",
              "      <td>12/07/2021</td>\n",
              "      <td>POINT (-73.88124724999993 40.88271780700006)</td>\n",
              "      <td>1017088</td>\n",
              "      <td>260895</td>\n",
              "      <td>40.88271780700006</td>\n",
              "      <td>-73.88124724999993</td>\n",
              "      <td>None</td>\n",
              "    </tr>\n",
              "    <tr>\n",
              "      <th>4</th>\n",
              "      <td>185325394</td>\n",
              "      <td>113</td>\n",
              "      <td></td>\n",
              "      <td>12/06/2021</td>\n",
              "      <td>17:25:00</td>\n",
              "      <td></td>\n",
              "      <td></td>\n",
              "      <td>COMPLETED</td>\n",
              "      <td></td>\n",
              "      <td>N.Y. POLICE DEPT</td>\n",
              "      <td>...</td>\n",
              "      <td></td>\n",
              "      <td></td>\n",
              "      <td></td>\n",
              "      <td>12/06/2021</td>\n",
              "      <td>POINT (-73.77667979199998 40.69648322200004)</td>\n",
              "      <td>1046176</td>\n",
              "      <td>193100</td>\n",
              "      <td>40.69648322200004</td>\n",
              "      <td>-73.77667979199998</td>\n",
              "      <td>None</td>\n",
              "    </tr>\n",
              "  </tbody>\n",
              "</table>\n",
              "<p>5 rows × 25 columns</p>\n",
              "</div>"
            ],
            "text/plain": [
              "  CMPLNT_NUM ADDR_PCT_CD BORO_NM CMPLNT_FR_DT CMPLNT_FR_TM CMPLNT_TO_DT  \\\n",
              "0  903695881          69           12/17/2021     22:13:00                \n",
              "1  400462399         113           12/17/2021     06:21:00                \n",
              "2  587910690         113           12/13/2021     20:05:00                \n",
              "3  186105368          52   BRONX   12/07/2021     22:49:00                \n",
              "4  185325394         113           12/06/2021     17:25:00                \n",
              "\n",
              "  CMPLNT_TO_TM CRM_ATPT_CPTD_CD HADEVELOPT        JURIS_DESC  ... PD_CD  \\\n",
              "0                     COMPLETED             N.Y. POLICE DEPT  ...         \n",
              "1                     COMPLETED             N.Y. POLICE DEPT  ...         \n",
              "2                     COMPLETED             N.Y. POLICE DEPT  ...         \n",
              "3                     COMPLETED             N.Y. POLICE DEPT  ...   792   \n",
              "4                     COMPLETED             N.Y. POLICE DEPT  ...         \n",
              "\n",
              "                    PD_DESC PREM_TYP_DESC      RPT_DT  \\\n",
              "0                                          12/17/2021   \n",
              "1                                          12/17/2021   \n",
              "2                                          12/13/2021   \n",
              "3  WEAPONS POSSESSION 1 & 2        STREET  12/07/2021   \n",
              "4                                          12/06/2021   \n",
              "\n",
              "                                         Lat_Lon X_COORD_CD Y_COORD_CD  \\\n",
              "0   POINT (-73.90287588699994 40.64564719600002)    1011203     174515   \n",
              "1  POINT (-73.78726915499993 40.682499421000045)    1043252     187998   \n",
              "2  POINT (-73.79144856999993 40.689218058000044)    1042087     190443   \n",
              "3   POINT (-73.88124724999993 40.88271780700006)    1017088     260895   \n",
              "4   POINT (-73.77667979199998 40.69648322200004)    1046176     193100   \n",
              "\n",
              "             Latitude           Longitude geometry  \n",
              "0   40.64564719600002  -73.90287588699994     None  \n",
              "1  40.682499421000045  -73.78726915499993     None  \n",
              "2  40.689218058000044  -73.79144856999993     None  \n",
              "3   40.88271780700006  -73.88124724999993     None  \n",
              "4   40.69648322200004  -73.77667979199998     None  \n",
              "\n",
              "[5 rows x 25 columns]"
            ]
          },
          "execution_count": 17,
          "metadata": {},
          "output_type": "execute_result"
        }
      ],
      "source": [
        "offmap.head()"
      ]
    },
    {
      "cell_type": "code",
      "execution_count": null,
      "id": "787571f5",
      "metadata": {
        "id": "787571f5",
        "outputId": "478ef0df-675e-47d7-dde9-7221b37599ed"
      },
      "outputs": [
        {
          "data": {
            "text/plain": [
              "array(['UNKNOWN', 'BLACK', 'BLACK HISPANIC', 'WHITE', 'WHITE HISPANIC',\n",
              "       'ASIAN / PACIFIC ISLANDER', 'AMERICAN INDIAN/ALASKAN NATIVE'],\n",
              "      dtype=object)"
            ]
          },
          "execution_count": 23,
          "metadata": {},
          "output_type": "execute_result"
        }
      ],
      "source": [
        "offense1.SUSP_RACE.unique()"
      ]
    },
    {
      "cell_type": "code",
      "execution_count": null,
      "id": "e1db4c4a",
      "metadata": {
        "id": "e1db4c4a"
      },
      "outputs": [],
      "source": [
        "offense1 = offense1[offense1.SUSP_RACE != 'UNKNOWN']"
      ]
    },
    {
      "cell_type": "code",
      "execution_count": null,
      "id": "3f437f31",
      "metadata": {
        "id": "3f437f31",
        "outputId": "f51b6408-7687-42a4-8cfc-352f9c806786"
      },
      "outputs": [
        {
          "data": {
            "text/plain": [
              "array(['BLACK', 'BLACK HISPANIC', 'WHITE', 'WHITE HISPANIC',\n",
              "       'ASIAN / PACIFIC ISLANDER', 'AMERICAN INDIAN/ALASKAN NATIVE'],\n",
              "      dtype=object)"
            ]
          },
          "execution_count": 25,
          "metadata": {},
          "output_type": "execute_result"
        }
      ],
      "source": [
        "offense1.SUSP_RACE.unique()"
      ]
    },
    {
      "cell_type": "code",
      "execution_count": null,
      "id": "600cc87b",
      "metadata": {
        "id": "600cc87b",
        "outputId": "078aafc5-d39d-4674-89e6-c55c8453065d"
      },
      "outputs": [
        {
          "name": "stderr",
          "output_type": "stream",
          "text": [
            "C:\\Users\\13502\\AppData\\Local\\Temp\\ipykernel_576\\2210413022.py:1: SettingWithCopyWarning: \n",
            "A value is trying to be set on a copy of a slice from a DataFrame.\n",
            "Try using .loc[row_indexer,col_indexer] = value instead\n",
            "\n",
            "See the caveats in the documentation: https://pandas.pydata.org/pandas-docs/stable/user_guide/indexing.html#returning-a-view-versus-a-copy\n",
            "  offense1['CMPLNT_FR_DT'] = pd.to_datetime(offense1['CMPLNT_FR_DT'], errors = 'coerce')\n",
            "C:\\Users\\13502\\AppData\\Local\\Temp\\ipykernel_576\\2210413022.py:2: SettingWithCopyWarning: \n",
            "A value is trying to be set on a copy of a slice from a DataFrame.\n",
            "Try using .loc[row_indexer,col_indexer] = value instead\n",
            "\n",
            "See the caveats in the documentation: https://pandas.pydata.org/pandas-docs/stable/user_guide/indexing.html#returning-a-view-versus-a-copy\n",
            "  offense1['year'] = offense1['CMPLNT_FR_DT'].dt.year\n",
            "C:\\Users\\13502\\AppData\\Local\\Temp\\ipykernel_576\\2210413022.py:3: SettingWithCopyWarning: \n",
            "A value is trying to be set on a copy of a slice from a DataFrame.\n",
            "Try using .loc[row_indexer,col_indexer] = value instead\n",
            "\n",
            "See the caveats in the documentation: https://pandas.pydata.org/pandas-docs/stable/user_guide/indexing.html#returning-a-view-versus-a-copy\n",
            "  offense1['day'] = offense1['CMPLNT_FR_DT'].dt.dayofweek\n"
          ]
        }
      ],
      "source": [
        "offense1['CMPLNT_FR_DT'] = pd.to_datetime(offense1['CMPLNT_FR_DT'], errors = 'coerce')\n",
        "offense1['year'] = offense1['CMPLNT_FR_DT'].dt.year\n",
        "offense1['day'] = offense1['CMPLNT_FR_DT'].dt.dayofweek\n",
        "offense1 = offense1.dropna()"
      ]
    },
    {
      "cell_type": "code",
      "execution_count": null,
      "id": "416d0d6c",
      "metadata": {
        "id": "416d0d6c",
        "outputId": "b570d9cd-7659-471d-d7bf-c9b3f37205c2"
      },
      "outputs": [
        {
          "data": {
            "text/html": [
              "<div>\n",
              "<style scoped>\n",
              "    .dataframe tbody tr th:only-of-type {\n",
              "        vertical-align: middle;\n",
              "    }\n",
              "\n",
              "    .dataframe tbody tr th {\n",
              "        vertical-align: top;\n",
              "    }\n",
              "\n",
              "    .dataframe thead th {\n",
              "        text-align: right;\n",
              "    }\n",
              "</style>\n",
              "<table border=\"1\" class=\"dataframe\">\n",
              "  <thead>\n",
              "    <tr style=\"text-align: right;\">\n",
              "      <th></th>\n",
              "      <th>BORO_NM</th>\n",
              "      <th>CMPLNT_FR_DT</th>\n",
              "      <th>CMPLNT_FR_TM</th>\n",
              "      <th>LAW_CAT_CD</th>\n",
              "      <th>OFNS_DESC</th>\n",
              "      <th>SUSP_RACE</th>\n",
              "      <th>Lat_Lon</th>\n",
              "      <th>year</th>\n",
              "      <th>day</th>\n",
              "    </tr>\n",
              "  </thead>\n",
              "  <tbody>\n",
              "    <tr>\n",
              "      <th>71</th>\n",
              "      <td>BRONX</td>\n",
              "      <td>2021-12-31</td>\n",
              "      <td>04:20:00</td>\n",
              "      <td>MISDEMEANOR</td>\n",
              "      <td>ASSAULT 3 &amp; RELATED OFFENSES</td>\n",
              "      <td>BLACK</td>\n",
              "      <td>(40.838689661000046, -73.91880635699994)</td>\n",
              "      <td>2021.0</td>\n",
              "      <td>4.0</td>\n",
              "    </tr>\n",
              "    <tr>\n",
              "      <th>74</th>\n",
              "      <td>BROOKLYN</td>\n",
              "      <td>2021-12-22</td>\n",
              "      <td>10:35:00</td>\n",
              "      <td>FELONY</td>\n",
              "      <td>MISCELLANEOUS PENAL LAW</td>\n",
              "      <td>BLACK</td>\n",
              "      <td>(40.66456888000005, -73.88691987599998)</td>\n",
              "      <td>2021.0</td>\n",
              "      <td>2.0</td>\n",
              "    </tr>\n",
              "    <tr>\n",
              "      <th>75</th>\n",
              "      <td>BRONX</td>\n",
              "      <td>2021-12-27</td>\n",
              "      <td>13:18:00</td>\n",
              "      <td>VIOLATION</td>\n",
              "      <td>HARRASSMENT 2</td>\n",
              "      <td>BLACK HISPANIC</td>\n",
              "      <td>(40.84734979900003, -73.90189464799995)</td>\n",
              "      <td>2021.0</td>\n",
              "      <td>0.0</td>\n",
              "    </tr>\n",
              "    <tr>\n",
              "      <th>76</th>\n",
              "      <td>QUEENS</td>\n",
              "      <td>2021-12-26</td>\n",
              "      <td>19:00:00</td>\n",
              "      <td>FELONY</td>\n",
              "      <td>GRAND LARCENY</td>\n",
              "      <td>WHITE</td>\n",
              "      <td>(40.68321413800004, -73.74215413399996)</td>\n",
              "      <td>2021.0</td>\n",
              "      <td>6.0</td>\n",
              "    </tr>\n",
              "    <tr>\n",
              "      <th>77</th>\n",
              "      <td>BRONX</td>\n",
              "      <td>2021-12-25</td>\n",
              "      <td>17:00:00</td>\n",
              "      <td>MISDEMEANOR</td>\n",
              "      <td>ASSAULT 3 &amp; RELATED OFFENSES</td>\n",
              "      <td>WHITE HISPANIC</td>\n",
              "      <td>(40.85026097600007, -73.88874043199996)</td>\n",
              "      <td>2021.0</td>\n",
              "      <td>5.0</td>\n",
              "    </tr>\n",
              "  </tbody>\n",
              "</table>\n",
              "</div>"
            ],
            "text/plain": [
              "     BORO_NM CMPLNT_FR_DT CMPLNT_FR_TM   LAW_CAT_CD  \\\n",
              "71     BRONX   2021-12-31     04:20:00  MISDEMEANOR   \n",
              "74  BROOKLYN   2021-12-22     10:35:00       FELONY   \n",
              "75     BRONX   2021-12-27     13:18:00    VIOLATION   \n",
              "76    QUEENS   2021-12-26     19:00:00       FELONY   \n",
              "77     BRONX   2021-12-25     17:00:00  MISDEMEANOR   \n",
              "\n",
              "                       OFNS_DESC       SUSP_RACE  \\\n",
              "71  ASSAULT 3 & RELATED OFFENSES           BLACK   \n",
              "74       MISCELLANEOUS PENAL LAW           BLACK   \n",
              "75                 HARRASSMENT 2  BLACK HISPANIC   \n",
              "76                 GRAND LARCENY           WHITE   \n",
              "77  ASSAULT 3 & RELATED OFFENSES  WHITE HISPANIC   \n",
              "\n",
              "                                     Lat_Lon    year  day  \n",
              "71  (40.838689661000046, -73.91880635699994)  2021.0  4.0  \n",
              "74   (40.66456888000005, -73.88691987599998)  2021.0  2.0  \n",
              "75   (40.84734979900003, -73.90189464799995)  2021.0  0.0  \n",
              "76   (40.68321413800004, -73.74215413399996)  2021.0  6.0  \n",
              "77   (40.85026097600007, -73.88874043199996)  2021.0  5.0  "
            ]
          },
          "execution_count": 39,
          "metadata": {},
          "output_type": "execute_result"
        }
      ],
      "source": [
        "offense1.head()"
      ]
    },
    {
      "cell_type": "code",
      "execution_count": null,
      "id": "94b55f28",
      "metadata": {
        "id": "94b55f28",
        "outputId": "14b4fd7d-f594-4066-cbbe-cb9c36cd9afc"
      },
      "outputs": [
        {
          "name": "stderr",
          "output_type": "stream",
          "text": [
            "C:\\Users\\13502\\AppData\\Local\\Temp\\ipykernel_576\\2081916888.py:1: SettingWithCopyWarning: \n",
            "A value is trying to be set on a copy of a slice from a DataFrame.\n",
            "Try using .loc[row_indexer,col_indexer] = value instead\n",
            "\n",
            "See the caveats in the documentation: https://pandas.pydata.org/pandas-docs/stable/user_guide/indexing.html#returning-a-view-versus-a-copy\n",
            "  offense1['CMPLNT_FR_TM'] = pd.to_datetime(offense1['CMPLNT_FR_TM'])\n"
          ]
        }
      ],
      "source": [
        "offense1['CMPLNT_FR_TM'] = pd.to_datetime(offense1['CMPLNT_FR_TM'])"
      ]
    },
    {
      "cell_type": "code",
      "execution_count": null,
      "id": "2540e3d9",
      "metadata": {
        "id": "2540e3d9",
        "outputId": "d6cf983f-46e6-41ce-ed1d-85ecc671c367"
      },
      "outputs": [
        {
          "name": "stderr",
          "output_type": "stream",
          "text": [
            "C:\\Users\\13502\\AppData\\Local\\Temp\\ipykernel_576\\442718291.py:1: SettingWithCopyWarning: \n",
            "A value is trying to be set on a copy of a slice from a DataFrame.\n",
            "Try using .loc[row_indexer,col_indexer] = value instead\n",
            "\n",
            "See the caveats in the documentation: https://pandas.pydata.org/pandas-docs/stable/user_guide/indexing.html#returning-a-view-versus-a-copy\n",
            "  offense1['hour'] = offense1['CMPLNT_FR_TM'].dt.hour\n"
          ]
        }
      ],
      "source": [
        "offense1['hour'] = offense1['CMPLNT_FR_TM'].dt.hour"
      ]
    },
    {
      "cell_type": "code",
      "execution_count": null,
      "id": "4ef52eee",
      "metadata": {
        "id": "4ef52eee"
      },
      "outputs": [],
      "source": [
        "offense1 = offense1.drop(columns = ['CMPLNT_FR_TM'])"
      ]
    },
    {
      "cell_type": "code",
      "execution_count": null,
      "id": "2609014c",
      "metadata": {
        "id": "2609014c",
        "outputId": "58e89dcd-8d81-428d-d4bf-fa1bcecf6227"
      },
      "outputs": [
        {
          "data": {
            "text/plain": [
              "array(['MISDEMEANOR', 'FELONY', 'VIOLATION'], dtype=object)"
            ]
          },
          "execution_count": 52,
          "metadata": {},
          "output_type": "execute_result"
        }
      ],
      "source": [
        "offense1.LAW_CAT_CD.unique()"
      ]
    },
    {
      "cell_type": "code",
      "execution_count": null,
      "id": "e6c45256",
      "metadata": {
        "id": "e6c45256",
        "outputId": "0a3c01c4-704b-4e46-94d2-e8d33c997064"
      },
      "outputs": [
        {
          "data": {
            "text/plain": [
              "array(['BLACK', 'BLACK HISPANIC', 'WHITE', 'WHITE HISPANIC',\n",
              "       'ASIAN / PACIFIC ISLANDER', 'AMERICAN INDIAN/ALASKAN NATIVE'],\n",
              "      dtype=object)"
            ]
          },
          "execution_count": 46,
          "metadata": {},
          "output_type": "execute_result"
        }
      ],
      "source": [
        "offense1.SUSP_RACE.unique()"
      ]
    },
    {
      "cell_type": "markdown",
      "id": "66025c60",
      "metadata": {
        "id": "66025c60"
      },
      "source": [
        "### Cluster the number of offense in different day of week"
      ]
    },
    {
      "cell_type": "code",
      "execution_count": null,
      "id": "a756a661",
      "metadata": {
        "id": "a756a661"
      },
      "outputs": [],
      "source": [
        "offasian = offense1[offense1['SUSP_RACE'] =='ASIAN / PACIFIC ISLANDER']\n",
        "dfasian = offasian.groupby(by = ['day','OFNS_DESC']).agg({'OFNS_DESC':'count'})"
      ]
    },
    {
      "cell_type": "code",
      "execution_count": null,
      "id": "e0049092",
      "metadata": {
        "id": "e0049092",
        "outputId": "025ab65d-e362-4253-d136-e75256dcb295"
      },
      "outputs": [
        {
          "data": {
            "text/html": [
              "<div>\n",
              "<style scoped>\n",
              "    .dataframe tbody tr th:only-of-type {\n",
              "        vertical-align: middle;\n",
              "    }\n",
              "\n",
              "    .dataframe tbody tr th {\n",
              "        vertical-align: top;\n",
              "    }\n",
              "\n",
              "    .dataframe thead th {\n",
              "        text-align: right;\n",
              "    }\n",
              "</style>\n",
              "<table border=\"1\" class=\"dataframe\">\n",
              "  <thead>\n",
              "    <tr style=\"text-align: right;\">\n",
              "      <th></th>\n",
              "      <th>day</th>\n",
              "      <th>OFNS_DESC</th>\n",
              "      <th>num</th>\n",
              "    </tr>\n",
              "  </thead>\n",
              "  <tbody>\n",
              "    <tr>\n",
              "      <th>0</th>\n",
              "      <td>0.0</td>\n",
              "      <td>ADMINISTRATIVE CODE</td>\n",
              "      <td>15</td>\n",
              "    </tr>\n",
              "    <tr>\n",
              "      <th>1</th>\n",
              "      <td>0.0</td>\n",
              "      <td>ALCOHOLIC BEVERAGE CONTROL LAW</td>\n",
              "      <td>1</td>\n",
              "    </tr>\n",
              "    <tr>\n",
              "      <th>2</th>\n",
              "      <td>0.0</td>\n",
              "      <td>ARSON</td>\n",
              "      <td>1</td>\n",
              "    </tr>\n",
              "    <tr>\n",
              "      <th>3</th>\n",
              "      <td>0.0</td>\n",
              "      <td>ASSAULT 3 &amp; RELATED OFFENSES</td>\n",
              "      <td>348</td>\n",
              "    </tr>\n",
              "    <tr>\n",
              "      <th>4</th>\n",
              "      <td>0.0</td>\n",
              "      <td>BURGLAR'S TOOLS</td>\n",
              "      <td>1</td>\n",
              "    </tr>\n",
              "  </tbody>\n",
              "</table>\n",
              "</div>"
            ],
            "text/plain": [
              "   day                       OFNS_DESC  num\n",
              "0  0.0             ADMINISTRATIVE CODE   15\n",
              "1  0.0  ALCOHOLIC BEVERAGE CONTROL LAW    1\n",
              "2  0.0                           ARSON    1\n",
              "3  0.0    ASSAULT 3 & RELATED OFFENSES  348\n",
              "4  0.0                 BURGLAR'S TOOLS    1"
            ]
          },
          "execution_count": 48,
          "metadata": {},
          "output_type": "execute_result"
        }
      ],
      "source": [
        "dfasian = dfasian.rename(columns = {'OFNS_DESC':'num'})\n",
        "dfasian.reset_index(inplace = True)\n",
        "dfasian.head()"
      ]
    },
    {
      "cell_type": "code",
      "execution_count": null,
      "id": "254b576d",
      "metadata": {
        "id": "254b576d",
        "outputId": "a208a041-dd8c-4c6f-866e-ca428b6e1965"
      },
      "outputs": [
        {
          "data": {
            "text/html": [
              "<div>\n",
              "<style scoped>\n",
              "    .dataframe tbody tr th:only-of-type {\n",
              "        vertical-align: middle;\n",
              "    }\n",
              "\n",
              "    .dataframe tbody tr th {\n",
              "        vertical-align: top;\n",
              "    }\n",
              "\n",
              "    .dataframe thead th {\n",
              "        text-align: right;\n",
              "    }\n",
              "</style>\n",
              "<table border=\"1\" class=\"dataframe\">\n",
              "  <thead>\n",
              "    <tr style=\"text-align: right;\">\n",
              "      <th>day</th>\n",
              "      <th>0.0</th>\n",
              "      <th>1.0</th>\n",
              "      <th>2.0</th>\n",
              "      <th>3.0</th>\n",
              "      <th>4.0</th>\n",
              "      <th>5.0</th>\n",
              "      <th>6.0</th>\n",
              "    </tr>\n",
              "    <tr>\n",
              "      <th>OFNS_DESC</th>\n",
              "      <th></th>\n",
              "      <th></th>\n",
              "      <th></th>\n",
              "      <th></th>\n",
              "      <th></th>\n",
              "      <th></th>\n",
              "      <th></th>\n",
              "    </tr>\n",
              "  </thead>\n",
              "  <tbody>\n",
              "    <tr>\n",
              "      <th>ADMINISTRATIVE CODE</th>\n",
              "      <td>15.0</td>\n",
              "      <td>12.0</td>\n",
              "      <td>8.0</td>\n",
              "      <td>10.0</td>\n",
              "      <td>7.0</td>\n",
              "      <td>11.0</td>\n",
              "      <td>8.0</td>\n",
              "    </tr>\n",
              "    <tr>\n",
              "      <th>AGRICULTURE &amp; MRKTS LAW-UNCLASSIFIED</th>\n",
              "      <td>0.0</td>\n",
              "      <td>1.0</td>\n",
              "      <td>0.0</td>\n",
              "      <td>1.0</td>\n",
              "      <td>0.0</td>\n",
              "      <td>0.0</td>\n",
              "      <td>0.0</td>\n",
              "    </tr>\n",
              "    <tr>\n",
              "      <th>ALCOHOLIC BEVERAGE CONTROL LAW</th>\n",
              "      <td>1.0</td>\n",
              "      <td>1.0</td>\n",
              "      <td>1.0</td>\n",
              "      <td>1.0</td>\n",
              "      <td>1.0</td>\n",
              "      <td>1.0</td>\n",
              "      <td>0.0</td>\n",
              "    </tr>\n",
              "    <tr>\n",
              "      <th>ARSON</th>\n",
              "      <td>1.0</td>\n",
              "      <td>2.0</td>\n",
              "      <td>0.0</td>\n",
              "      <td>1.0</td>\n",
              "      <td>0.0</td>\n",
              "      <td>0.0</td>\n",
              "      <td>0.0</td>\n",
              "    </tr>\n",
              "    <tr>\n",
              "      <th>ASSAULT 3 &amp; RELATED OFFENSES</th>\n",
              "      <td>348.0</td>\n",
              "      <td>320.0</td>\n",
              "      <td>323.0</td>\n",
              "      <td>326.0</td>\n",
              "      <td>320.0</td>\n",
              "      <td>373.0</td>\n",
              "      <td>370.0</td>\n",
              "    </tr>\n",
              "  </tbody>\n",
              "</table>\n",
              "</div>"
            ],
            "text/plain": [
              "day                                     0.0    1.0    2.0    3.0    4.0  \\\n",
              "OFNS_DESC                                                                 \n",
              "ADMINISTRATIVE CODE                    15.0   12.0    8.0   10.0    7.0   \n",
              "AGRICULTURE & MRKTS LAW-UNCLASSIFIED    0.0    1.0    0.0    1.0    0.0   \n",
              "ALCOHOLIC BEVERAGE CONTROL LAW          1.0    1.0    1.0    1.0    1.0   \n",
              "ARSON                                   1.0    2.0    0.0    1.0    0.0   \n",
              "ASSAULT 3 & RELATED OFFENSES          348.0  320.0  323.0  326.0  320.0   \n",
              "\n",
              "day                                     5.0    6.0  \n",
              "OFNS_DESC                                           \n",
              "ADMINISTRATIVE CODE                    11.0    8.0  \n",
              "AGRICULTURE & MRKTS LAW-UNCLASSIFIED    0.0    0.0  \n",
              "ALCOHOLIC BEVERAGE CONTROL LAW          1.0    0.0  \n",
              "ARSON                                   0.0    0.0  \n",
              "ASSAULT 3 & RELATED OFFENSES          373.0  370.0  "
            ]
          },
          "execution_count": 51,
          "metadata": {},
          "output_type": "execute_result"
        }
      ],
      "source": [
        "tableasian = pd.pivot_table(dfasian,values ='num',index = 'OFNS_DESC',columns = 'day')\n",
        "tableasian = tableasian.fillna(0)\n",
        "tableasian.head()"
      ]
    },
    {
      "cell_type": "code",
      "execution_count": null,
      "id": "2caef935",
      "metadata": {
        "id": "2caef935"
      },
      "outputs": [],
      "source": [
        "import matplotlib.pyplot as plt\n",
        "from sklearn.datasets import make_blobs\n",
        "from sklearn.cluster import KMeans\n",
        "from sklearn.metrics import silhouette_score\n",
        "from sklearn.preprocessing import StandardScaler"
      ]
    },
    {
      "cell_type": "code",
      "execution_count": null,
      "id": "7037f105",
      "metadata": {
        "id": "7037f105",
        "outputId": "8591c9bf-be0f-4f84-fcc7-1b9fb8387ccd"
      },
      "outputs": [
        {
          "name": "stderr",
          "output_type": "stream",
          "text": [
            "C:\\Users\\13502\\anaconda3\\envs\\geo_env\\lib\\site-packages\\sklearn\\utils\\validation.py:1688: FutureWarning: Feature names only support names that are all strings. Got feature names with dtypes: ['float']. An error will be raised in 1.2.\n",
            "  warnings.warn(\n",
            "C:\\Users\\13502\\anaconda3\\envs\\geo_env\\lib\\site-packages\\sklearn\\utils\\validation.py:1688: FutureWarning: Feature names only support names that are all strings. Got feature names with dtypes: ['float']. An error will be raised in 1.2.\n",
            "  warnings.warn(\n",
            "C:\\Users\\13502\\anaconda3\\envs\\geo_env\\lib\\site-packages\\sklearn\\utils\\validation.py:1688: FutureWarning: Feature names only support names that are all strings. Got feature names with dtypes: ['float']. An error will be raised in 1.2.\n",
            "  warnings.warn(\n",
            "C:\\Users\\13502\\anaconda3\\envs\\geo_env\\lib\\site-packages\\sklearn\\utils\\validation.py:1688: FutureWarning: Feature names only support names that are all strings. Got feature names with dtypes: ['float']. An error will be raised in 1.2.\n",
            "  warnings.warn(\n"
          ]
        },
        {
          "name": "stdout",
          "output_type": "stream",
          "text": [
            "For n_clusters = 2 The average silhouette_score is : 0.8836505554077915\n",
            "For n_clusters = 3 The average silhouette_score is : 0.7673076233704272\n",
            "For n_clusters = 4 The average silhouette_score is : 0.7510715162476919\n",
            "For n_clusters = 5 The average silhouette_score is : 0.6301136752931635\n",
            "For n_clusters = 6 The average silhouette_score is : 0.6272224608063637\n"
          ]
        },
        {
          "name": "stderr",
          "output_type": "stream",
          "text": [
            "C:\\Users\\13502\\anaconda3\\envs\\geo_env\\lib\\site-packages\\sklearn\\utils\\validation.py:1688: FutureWarning: Feature names only support names that are all strings. Got feature names with dtypes: ['float']. An error will be raised in 1.2.\n",
            "  warnings.warn(\n"
          ]
        }
      ],
      "source": [
        "range_n_clusters = [2, 3, 4, 5, 6]\n",
        "\n",
        "for n_clusters in range_n_clusters:\n",
        "\n",
        "    clusterer = KMeans(n_clusters=n_clusters, random_state=0).fit(tableasian)\n",
        "\n",
        "    silhouette_avg = silhouette_score(tableasian, clusterer.labels_)\n",
        "    \n",
        "    print(\n",
        "        \"For n_clusters =\",\n",
        "        n_clusters,\n",
        "        \"The average silhouette_score is :\",\n",
        "        silhouette_avg,\n",
        "    )"
      ]
    },
    {
      "cell_type": "code",
      "execution_count": null,
      "id": "d332eec1",
      "metadata": {
        "id": "d332eec1",
        "outputId": "06f28ecb-cecf-4e13-cfc7-3df2fbcfdc18"
      },
      "outputs": [
        {
          "name": "stderr",
          "output_type": "stream",
          "text": [
            "C:\\Users\\13502\\anaconda3\\envs\\geo_env\\lib\\site-packages\\sklearn\\utils\\validation.py:1688: FutureWarning: Feature names only support names that are all strings. Got feature names with dtypes: ['float']. An error will be raised in 1.2.\n",
            "  warnings.warn(\n"
          ]
        }
      ],
      "source": [
        "km=KMeans(random_state=0,n_clusters=2)\n",
        "cluster_labels = km.fit_predict(tableasian)\n",
        "tableasian['labelk']=cluster_labels"
      ]
    },
    {
      "cell_type": "code",
      "execution_count": null,
      "id": "43d87245",
      "metadata": {
        "id": "43d87245",
        "outputId": "095524ea-03e9-405f-c723-c8bdc111f6df"
      },
      "outputs": [
        {
          "data": {
            "text/plain": [
              "0    40\n",
              "1     2\n",
              "Name: labelk, dtype: int64"
            ]
          },
          "execution_count": 56,
          "metadata": {},
          "output_type": "execute_result"
        }
      ],
      "source": [
        "tableasian['labelk'].value_counts()"
      ]
    },
    {
      "cell_type": "code",
      "execution_count": null,
      "id": "e8ef9949",
      "metadata": {
        "id": "e8ef9949",
        "outputId": "385b94eb-4b0e-4ce3-8e49-f570b3e9d2e3"
      },
      "outputs": [
        {
          "data": {
            "text/html": [
              "<div>\n",
              "<style scoped>\n",
              "    .dataframe tbody tr th:only-of-type {\n",
              "        vertical-align: middle;\n",
              "    }\n",
              "\n",
              "    .dataframe tbody tr th {\n",
              "        vertical-align: top;\n",
              "    }\n",
              "\n",
              "    .dataframe thead th {\n",
              "        text-align: right;\n",
              "    }\n",
              "</style>\n",
              "<table border=\"1\" class=\"dataframe\">\n",
              "  <thead>\n",
              "    <tr style=\"text-align: right;\">\n",
              "      <th>day</th>\n",
              "      <th>0.0</th>\n",
              "      <th>1.0</th>\n",
              "      <th>2.0</th>\n",
              "      <th>3.0</th>\n",
              "      <th>4.0</th>\n",
              "      <th>5.0</th>\n",
              "      <th>6.0</th>\n",
              "      <th>labelk</th>\n",
              "    </tr>\n",
              "    <tr>\n",
              "      <th>OFNS_DESC</th>\n",
              "      <th></th>\n",
              "      <th></th>\n",
              "      <th></th>\n",
              "      <th></th>\n",
              "      <th></th>\n",
              "      <th></th>\n",
              "      <th></th>\n",
              "      <th></th>\n",
              "    </tr>\n",
              "  </thead>\n",
              "  <tbody>\n",
              "    <tr>\n",
              "      <th>ASSAULT 3 &amp; RELATED OFFENSES</th>\n",
              "      <td>348.0</td>\n",
              "      <td>320.0</td>\n",
              "      <td>323.0</td>\n",
              "      <td>326.0</td>\n",
              "      <td>320.0</td>\n",
              "      <td>373.0</td>\n",
              "      <td>370.0</td>\n",
              "      <td>1</td>\n",
              "    </tr>\n",
              "    <tr>\n",
              "      <th>HARRASSMENT 2</th>\n",
              "      <td>556.0</td>\n",
              "      <td>520.0</td>\n",
              "      <td>519.0</td>\n",
              "      <td>528.0</td>\n",
              "      <td>568.0</td>\n",
              "      <td>524.0</td>\n",
              "      <td>550.0</td>\n",
              "      <td>1</td>\n",
              "    </tr>\n",
              "  </tbody>\n",
              "</table>\n",
              "</div>"
            ],
            "text/plain": [
              "day                             0.0    1.0    2.0    3.0    4.0    5.0    6.0  \\\n",
              "OFNS_DESC                                                                       \n",
              "ASSAULT 3 & RELATED OFFENSES  348.0  320.0  323.0  326.0  320.0  373.0  370.0   \n",
              "HARRASSMENT 2                 556.0  520.0  519.0  528.0  568.0  524.0  550.0   \n",
              "\n",
              "day                           labelk  \n",
              "OFNS_DESC                             \n",
              "ASSAULT 3 & RELATED OFFENSES       1  \n",
              "HARRASSMENT 2                      1  "
            ]
          },
          "execution_count": 57,
          "metadata": {},
          "output_type": "execute_result"
        }
      ],
      "source": [
        "tableasian[tableasian['labelk']==1]"
      ]
    },
    {
      "cell_type": "code",
      "execution_count": null,
      "id": "423ab528",
      "metadata": {
        "id": "423ab528"
      },
      "outputs": [],
      "source": []
    },
    {
      "cell_type": "code",
      "execution_count": null,
      "id": "a1351430",
      "metadata": {
        "id": "a1351430",
        "outputId": "c0f6c6eb-c840-487d-f399-0e03f4569ba6"
      },
      "outputs": [
        {
          "name": "stdout",
          "output_type": "stream",
          "text": [
            "For n_clusters = 2 The average silhouette_score is : 0.8836506219829577\n",
            "For n_clusters = 3 The average silhouette_score is : 0.7673076546758082\n",
            "For n_clusters = 4 The average silhouette_score is : 0.7510715162476919\n",
            "For n_clusters = 5 The average silhouette_score is : 0.6360973300147874\n",
            "For n_clusters = 6 The average silhouette_score is : 0.5729489764251983\n"
          ]
        },
        {
          "name": "stderr",
          "output_type": "stream",
          "text": [
            "C:\\Users\\13502\\anaconda3\\envs\\geo_env\\lib\\site-packages\\sklearn\\utils\\validation.py:1688: FutureWarning: Feature names only support names that are all strings. Got feature names with dtypes: ['float', 'str']. An error will be raised in 1.2.\n",
            "  warnings.warn(\n",
            "C:\\Users\\13502\\anaconda3\\envs\\geo_env\\lib\\site-packages\\sklearn\\utils\\validation.py:1688: FutureWarning: Feature names only support names that are all strings. Got feature names with dtypes: ['float', 'str']. An error will be raised in 1.2.\n",
            "  warnings.warn(\n",
            "C:\\Users\\13502\\anaconda3\\envs\\geo_env\\lib\\site-packages\\sklearn\\utils\\validation.py:1688: FutureWarning: Feature names only support names that are all strings. Got feature names with dtypes: ['float', 'str']. An error will be raised in 1.2.\n",
            "  warnings.warn(\n",
            "C:\\Users\\13502\\anaconda3\\envs\\geo_env\\lib\\site-packages\\sklearn\\utils\\validation.py:1688: FutureWarning: Feature names only support names that are all strings. Got feature names with dtypes: ['float', 'str']. An error will be raised in 1.2.\n",
            "  warnings.warn(\n",
            "C:\\Users\\13502\\anaconda3\\envs\\geo_env\\lib\\site-packages\\sklearn\\utils\\validation.py:1688: FutureWarning: Feature names only support names that are all strings. Got feature names with dtypes: ['float', 'str']. An error will be raised in 1.2.\n",
            "  warnings.warn(\n"
          ]
        }
      ],
      "source": [
        "from sklearn.mixture import GaussianMixture \n",
        "\n",
        "range_n_clusters = [2, 3, 4, 5, 6]\n",
        "\n",
        "for n_clusters in range_n_clusters:\n",
        "\n",
        "    clusterer = GaussianMixture(n_components=n_clusters, random_state=0).fit_predict(tableasian)\n",
        "\n",
        "    silhouette_avg = silhouette_score(tableasian, clusterer)\n",
        "    \n",
        "    print(\n",
        "        \"For n_clusters =\",\n",
        "        n_clusters,\n",
        "        \"The average silhouette_score is :\",\n",
        "        silhouette_avg,\n",
        "    )"
      ]
    },
    {
      "cell_type": "code",
      "execution_count": null,
      "id": "9e91034f",
      "metadata": {
        "id": "9e91034f",
        "outputId": "06a562fb-de36-4d8d-9e7a-cab5cb05e2cc"
      },
      "outputs": [
        {
          "name": "stderr",
          "output_type": "stream",
          "text": [
            "C:\\Users\\13502\\anaconda3\\envs\\geo_env\\lib\\site-packages\\sklearn\\utils\\validation.py:1688: FutureWarning: Feature names only support names that are all strings. Got feature names with dtypes: ['float', 'str']. An error will be raised in 1.2.\n",
            "  warnings.warn(\n"
          ]
        },
        {
          "data": {
            "text/plain": [
              "0    40\n",
              "1     2\n",
              "Name: labelg, dtype: int64"
            ]
          },
          "execution_count": 65,
          "metadata": {},
          "output_type": "execute_result"
        }
      ],
      "source": [
        "clusterer = GaussianMixture(n_components=2, random_state=0).fit_predict(tableasian)\n",
        "tableasian['labelg']=clusterer\n",
        "tableasian['labelg'].value_counts()"
      ]
    },
    {
      "cell_type": "code",
      "execution_count": null,
      "id": "207b5654",
      "metadata": {
        "id": "207b5654",
        "outputId": "c85b69fc-f024-4077-f00c-6b85aadeac46"
      },
      "outputs": [
        {
          "data": {
            "text/html": [
              "<div>\n",
              "<style scoped>\n",
              "    .dataframe tbody tr th:only-of-type {\n",
              "        vertical-align: middle;\n",
              "    }\n",
              "\n",
              "    .dataframe tbody tr th {\n",
              "        vertical-align: top;\n",
              "    }\n",
              "\n",
              "    .dataframe thead th {\n",
              "        text-align: right;\n",
              "    }\n",
              "</style>\n",
              "<table border=\"1\" class=\"dataframe\">\n",
              "  <thead>\n",
              "    <tr style=\"text-align: right;\">\n",
              "      <th>day</th>\n",
              "      <th>0.0</th>\n",
              "      <th>1.0</th>\n",
              "      <th>2.0</th>\n",
              "      <th>3.0</th>\n",
              "      <th>4.0</th>\n",
              "      <th>5.0</th>\n",
              "      <th>6.0</th>\n",
              "      <th>labelk</th>\n",
              "      <th>labelg</th>\n",
              "    </tr>\n",
              "    <tr>\n",
              "      <th>OFNS_DESC</th>\n",
              "      <th></th>\n",
              "      <th></th>\n",
              "      <th></th>\n",
              "      <th></th>\n",
              "      <th></th>\n",
              "      <th></th>\n",
              "      <th></th>\n",
              "      <th></th>\n",
              "      <th></th>\n",
              "    </tr>\n",
              "  </thead>\n",
              "  <tbody>\n",
              "    <tr>\n",
              "      <th>ASSAULT 3 &amp; RELATED OFFENSES</th>\n",
              "      <td>348.0</td>\n",
              "      <td>320.0</td>\n",
              "      <td>323.0</td>\n",
              "      <td>326.0</td>\n",
              "      <td>320.0</td>\n",
              "      <td>373.0</td>\n",
              "      <td>370.0</td>\n",
              "      <td>1</td>\n",
              "      <td>1</td>\n",
              "    </tr>\n",
              "    <tr>\n",
              "      <th>HARRASSMENT 2</th>\n",
              "      <td>556.0</td>\n",
              "      <td>520.0</td>\n",
              "      <td>519.0</td>\n",
              "      <td>528.0</td>\n",
              "      <td>568.0</td>\n",
              "      <td>524.0</td>\n",
              "      <td>550.0</td>\n",
              "      <td>1</td>\n",
              "      <td>1</td>\n",
              "    </tr>\n",
              "  </tbody>\n",
              "</table>\n",
              "</div>"
            ],
            "text/plain": [
              "day                             0.0    1.0    2.0    3.0    4.0    5.0    6.0  \\\n",
              "OFNS_DESC                                                                       \n",
              "ASSAULT 3 & RELATED OFFENSES  348.0  320.0  323.0  326.0  320.0  373.0  370.0   \n",
              "HARRASSMENT 2                 556.0  520.0  519.0  528.0  568.0  524.0  550.0   \n",
              "\n",
              "day                           labelk  labelg  \n",
              "OFNS_DESC                                     \n",
              "ASSAULT 3 & RELATED OFFENSES       1       1  \n",
              "HARRASSMENT 2                      1       1  "
            ]
          },
          "execution_count": 66,
          "metadata": {},
          "output_type": "execute_result"
        }
      ],
      "source": [
        "tableasian[tableasian['labelg']==1]"
      ]
    },
    {
      "cell_type": "code",
      "execution_count": null,
      "id": "73ded1f7",
      "metadata": {
        "id": "73ded1f7"
      },
      "outputs": [],
      "source": []
    },
    {
      "cell_type": "code",
      "execution_count": null,
      "id": "847203a3",
      "metadata": {
        "id": "847203a3",
        "outputId": "d11beec3-32d9-4be3-af27-d6d3f5feb492"
      },
      "outputs": [
        {
          "name": "stdout",
          "output_type": "stream",
          "text": [
            "For n_clusters = 2, the average silhouette_score is : 0.8579962768499437\n",
            "For n_clusters = 3, the average silhouette_score is : 0.8266106449835406\n",
            "For n_clusters = 4, the average silhouette_score is : 0.6924201329826066\n",
            "For n_clusters = 5, the average silhouette_score is : 0.7115836151456172\n",
            "For n_clusters = 6, the average silhouette_score is : 0.6861886501818715\n"
          ]
        }
      ],
      "source": [
        "from scipy.cluster.hierarchy import linkage\n",
        "from scipy.cluster.hierarchy import fcluster\n",
        "range_n_clusters = range(2,7)\n",
        "Z = linkage(tableasian, 'single')\n",
        "\n",
        "for n_clusters in range_n_clusters:\n",
        "    cluster_labels=fcluster(Z, n_clusters, criterion='maxclust')    \n",
        "    silhouette_avg = silhouette_score(tableasian, cluster_labels)\n",
        "    print(\"For n_clusters = {},\".format(n_clusters)+\" the average silhouette_score is : {}\".format(silhouette_avg))"
      ]
    },
    {
      "cell_type": "code",
      "execution_count": null,
      "id": "15c10da7",
      "metadata": {
        "id": "15c10da7",
        "outputId": "eab5bf20-1a85-4d37-ee31-fe997848c125"
      },
      "outputs": [
        {
          "data": {
            "text/plain": [
              "1    41\n",
              "2     1\n",
              "Name: labels, dtype: int64"
            ]
          },
          "execution_count": 69,
          "metadata": {},
          "output_type": "execute_result"
        }
      ],
      "source": [
        "Z = linkage(tableasian, 'single')\n",
        "cluster_labels=fcluster(Z, 2, criterion='maxclust')\n",
        "tableasian['labels']=cluster_labels\n",
        "tableasian['labels'].value_counts()"
      ]
    },
    {
      "cell_type": "code",
      "execution_count": null,
      "id": "c15f2c02",
      "metadata": {
        "id": "c15f2c02",
        "outputId": "8e730a4c-9f18-4e8c-d5bb-bcacea4f9ba5"
      },
      "outputs": [
        {
          "data": {
            "text/html": [
              "<div>\n",
              "<style scoped>\n",
              "    .dataframe tbody tr th:only-of-type {\n",
              "        vertical-align: middle;\n",
              "    }\n",
              "\n",
              "    .dataframe tbody tr th {\n",
              "        vertical-align: top;\n",
              "    }\n",
              "\n",
              "    .dataframe thead th {\n",
              "        text-align: right;\n",
              "    }\n",
              "</style>\n",
              "<table border=\"1\" class=\"dataframe\">\n",
              "  <thead>\n",
              "    <tr style=\"text-align: right;\">\n",
              "      <th>day</th>\n",
              "      <th>0.0</th>\n",
              "      <th>1.0</th>\n",
              "      <th>2.0</th>\n",
              "      <th>3.0</th>\n",
              "      <th>4.0</th>\n",
              "      <th>5.0</th>\n",
              "      <th>6.0</th>\n",
              "      <th>labelk</th>\n",
              "      <th>labelg</th>\n",
              "      <th>labels</th>\n",
              "    </tr>\n",
              "    <tr>\n",
              "      <th>OFNS_DESC</th>\n",
              "      <th></th>\n",
              "      <th></th>\n",
              "      <th></th>\n",
              "      <th></th>\n",
              "      <th></th>\n",
              "      <th></th>\n",
              "      <th></th>\n",
              "      <th></th>\n",
              "      <th></th>\n",
              "      <th></th>\n",
              "    </tr>\n",
              "  </thead>\n",
              "  <tbody>\n",
              "    <tr>\n",
              "      <th>HARRASSMENT 2</th>\n",
              "      <td>556.0</td>\n",
              "      <td>520.0</td>\n",
              "      <td>519.0</td>\n",
              "      <td>528.0</td>\n",
              "      <td>568.0</td>\n",
              "      <td>524.0</td>\n",
              "      <td>550.0</td>\n",
              "      <td>1</td>\n",
              "      <td>1</td>\n",
              "      <td>2</td>\n",
              "    </tr>\n",
              "  </tbody>\n",
              "</table>\n",
              "</div>"
            ],
            "text/plain": [
              "day              0.0    1.0    2.0    3.0    4.0    5.0    6.0  labelk  \\\n",
              "OFNS_DESC                                                                \n",
              "HARRASSMENT 2  556.0  520.0  519.0  528.0  568.0  524.0  550.0       1   \n",
              "\n",
              "day            labelg  labels  \n",
              "OFNS_DESC                      \n",
              "HARRASSMENT 2       1       2  "
            ]
          },
          "execution_count": 70,
          "metadata": {},
          "output_type": "execute_result"
        }
      ],
      "source": [
        "tableasian[tableasian['labels']==2]"
      ]
    },
    {
      "cell_type": "code",
      "execution_count": null,
      "id": "35340b2d",
      "metadata": {
        "id": "35340b2d"
      },
      "outputs": [],
      "source": []
    },
    {
      "cell_type": "code",
      "execution_count": null,
      "id": "ebf0bc2f",
      "metadata": {
        "id": "ebf0bc2f",
        "outputId": "91aeb9a9-6d2e-48b6-e886-8cf407c2c2e2"
      },
      "outputs": [
        {
          "name": "stdout",
          "output_type": "stream",
          "text": [
            "For n_clusters = 2, the average silhouette_score is : 0.8836506666791225\n",
            "For n_clusters = 3, the average silhouette_score is : 0.8266106449835406\n",
            "For n_clusters = 4, the average silhouette_score is : 0.7412791488116665\n",
            "For n_clusters = 5, the average silhouette_score is : 0.7101256797303146\n",
            "For n_clusters = 6, the average silhouette_score is : 0.6500902348678571\n"
          ]
        }
      ],
      "source": [
        "range_n_clusters = range(2,7)\n",
        "Z = linkage(tableasian, 'complete')\n",
        "\n",
        "for n_clusters in range_n_clusters:\n",
        "    cluster_labels=fcluster(Z, n_clusters, criterion='maxclust')    \n",
        "    silhouette_avg = silhouette_score(tableasian, cluster_labels)\n",
        "    print(\"For n_clusters = {},\".format(n_clusters)+\" the average silhouette_score is : {}\".format(silhouette_avg))"
      ]
    },
    {
      "cell_type": "code",
      "execution_count": null,
      "id": "79401bfc",
      "metadata": {
        "id": "79401bfc",
        "outputId": "1c82b09d-8ba2-45f2-8536-cfc8a39f37c1"
      },
      "outputs": [
        {
          "data": {
            "text/plain": [
              "1    40\n",
              "2     2\n",
              "Name: labelc, dtype: int64"
            ]
          },
          "execution_count": 72,
          "metadata": {},
          "output_type": "execute_result"
        }
      ],
      "source": [
        "Z = linkage(tableasian, 'complete')\n",
        "cluster_labels=fcluster(Z, 2, criterion='maxclust')\n",
        "tableasian['labelc']=cluster_labels\n",
        "tableasian['labelc'].value_counts()"
      ]
    },
    {
      "cell_type": "code",
      "execution_count": null,
      "id": "b5000f9b",
      "metadata": {
        "id": "b5000f9b",
        "outputId": "693bf1bf-c401-4633-aadb-367940cad65f"
      },
      "outputs": [
        {
          "data": {
            "text/html": [
              "<div>\n",
              "<style scoped>\n",
              "    .dataframe tbody tr th:only-of-type {\n",
              "        vertical-align: middle;\n",
              "    }\n",
              "\n",
              "    .dataframe tbody tr th {\n",
              "        vertical-align: top;\n",
              "    }\n",
              "\n",
              "    .dataframe thead th {\n",
              "        text-align: right;\n",
              "    }\n",
              "</style>\n",
              "<table border=\"1\" class=\"dataframe\">\n",
              "  <thead>\n",
              "    <tr style=\"text-align: right;\">\n",
              "      <th>day</th>\n",
              "      <th>0.0</th>\n",
              "      <th>1.0</th>\n",
              "      <th>2.0</th>\n",
              "      <th>3.0</th>\n",
              "      <th>4.0</th>\n",
              "      <th>5.0</th>\n",
              "      <th>6.0</th>\n",
              "      <th>labelk</th>\n",
              "      <th>labelg</th>\n",
              "      <th>labels</th>\n",
              "      <th>labelc</th>\n",
              "    </tr>\n",
              "    <tr>\n",
              "      <th>OFNS_DESC</th>\n",
              "      <th></th>\n",
              "      <th></th>\n",
              "      <th></th>\n",
              "      <th></th>\n",
              "      <th></th>\n",
              "      <th></th>\n",
              "      <th></th>\n",
              "      <th></th>\n",
              "      <th></th>\n",
              "      <th></th>\n",
              "      <th></th>\n",
              "    </tr>\n",
              "  </thead>\n",
              "  <tbody>\n",
              "    <tr>\n",
              "      <th>ASSAULT 3 &amp; RELATED OFFENSES</th>\n",
              "      <td>348.0</td>\n",
              "      <td>320.0</td>\n",
              "      <td>323.0</td>\n",
              "      <td>326.0</td>\n",
              "      <td>320.0</td>\n",
              "      <td>373.0</td>\n",
              "      <td>370.0</td>\n",
              "      <td>1</td>\n",
              "      <td>1</td>\n",
              "      <td>1</td>\n",
              "      <td>2</td>\n",
              "    </tr>\n",
              "    <tr>\n",
              "      <th>HARRASSMENT 2</th>\n",
              "      <td>556.0</td>\n",
              "      <td>520.0</td>\n",
              "      <td>519.0</td>\n",
              "      <td>528.0</td>\n",
              "      <td>568.0</td>\n",
              "      <td>524.0</td>\n",
              "      <td>550.0</td>\n",
              "      <td>1</td>\n",
              "      <td>1</td>\n",
              "      <td>2</td>\n",
              "      <td>2</td>\n",
              "    </tr>\n",
              "  </tbody>\n",
              "</table>\n",
              "</div>"
            ],
            "text/plain": [
              "day                             0.0    1.0    2.0    3.0    4.0    5.0    6.0  \\\n",
              "OFNS_DESC                                                                       \n",
              "ASSAULT 3 & RELATED OFFENSES  348.0  320.0  323.0  326.0  320.0  373.0  370.0   \n",
              "HARRASSMENT 2                 556.0  520.0  519.0  528.0  568.0  524.0  550.0   \n",
              "\n",
              "day                           labelk  labelg  labels  labelc  \n",
              "OFNS_DESC                                                     \n",
              "ASSAULT 3 & RELATED OFFENSES       1       1       1       2  \n",
              "HARRASSMENT 2                      1       1       2       2  "
            ]
          },
          "execution_count": 73,
          "metadata": {},
          "output_type": "execute_result"
        }
      ],
      "source": [
        "tableasian[tableasian['labelc']==2]"
      ]
    },
    {
      "cell_type": "markdown",
      "id": "55bfba13",
      "metadata": {
        "id": "55bfba13"
      },
      "source": [
        "### hispanic"
      ]
    },
    {
      "cell_type": "code",
      "execution_count": null,
      "id": "1f92157b",
      "metadata": {
        "id": "1f92157b"
      },
      "outputs": [],
      "source": [
        "offbhis = offense1[(offense1['SUSP_RACE'] =='BLACK HISPANIC')]\n",
        "offwhis = offense1[(offense1['SUSP_RACE'] =='WHITE HISPANIC')]\n",
        "offhis = pd.concat([offbhis,offwhis])\n",
        "dfhis = offhis.groupby(by = ['day','OFNS_DESC']).agg({'OFNS_DESC':'count'})"
      ]
    },
    {
      "cell_type": "code",
      "execution_count": null,
      "id": "41e365e5",
      "metadata": {
        "id": "41e365e5",
        "outputId": "73930263-1edd-4b82-abc0-ef9e0b56b6b9"
      },
      "outputs": [
        {
          "data": {
            "text/html": [
              "<div>\n",
              "<style scoped>\n",
              "    .dataframe tbody tr th:only-of-type {\n",
              "        vertical-align: middle;\n",
              "    }\n",
              "\n",
              "    .dataframe tbody tr th {\n",
              "        vertical-align: top;\n",
              "    }\n",
              "\n",
              "    .dataframe thead th {\n",
              "        text-align: right;\n",
              "    }\n",
              "</style>\n",
              "<table border=\"1\" class=\"dataframe\">\n",
              "  <thead>\n",
              "    <tr style=\"text-align: right;\">\n",
              "      <th></th>\n",
              "      <th>day</th>\n",
              "      <th>OFNS_DESC</th>\n",
              "      <th>num</th>\n",
              "    </tr>\n",
              "  </thead>\n",
              "  <tbody>\n",
              "    <tr>\n",
              "      <th>0</th>\n",
              "      <td>0.0</td>\n",
              "      <td>ADMINISTRATIVE CODE</td>\n",
              "      <td>24</td>\n",
              "    </tr>\n",
              "    <tr>\n",
              "      <th>1</th>\n",
              "      <td>0.0</td>\n",
              "      <td>AGRICULTURE &amp; MRKTS LAW-UNCLASSIFIED</td>\n",
              "      <td>1</td>\n",
              "    </tr>\n",
              "    <tr>\n",
              "      <th>2</th>\n",
              "      <td>0.0</td>\n",
              "      <td>ALCOHOLIC BEVERAGE CONTROL LAW</td>\n",
              "      <td>1</td>\n",
              "    </tr>\n",
              "    <tr>\n",
              "      <th>3</th>\n",
              "      <td>0.0</td>\n",
              "      <td>ANTICIPATORY OFFENSES</td>\n",
              "      <td>3</td>\n",
              "    </tr>\n",
              "    <tr>\n",
              "      <th>4</th>\n",
              "      <td>0.0</td>\n",
              "      <td>ARSON</td>\n",
              "      <td>4</td>\n",
              "    </tr>\n",
              "  </tbody>\n",
              "</table>\n",
              "</div>"
            ],
            "text/plain": [
              "   day                             OFNS_DESC  num\n",
              "0  0.0                   ADMINISTRATIVE CODE   24\n",
              "1  0.0  AGRICULTURE & MRKTS LAW-UNCLASSIFIED    1\n",
              "2  0.0        ALCOHOLIC BEVERAGE CONTROL LAW    1\n",
              "3  0.0                 ANTICIPATORY OFFENSES    3\n",
              "4  0.0                                 ARSON    4"
            ]
          },
          "execution_count": 80,
          "metadata": {},
          "output_type": "execute_result"
        }
      ],
      "source": [
        "dfhis = dfhis.rename(columns = {'OFNS_DESC':'num'})\n",
        "dfhis.reset_index(inplace = True)\n",
        "dfhis.head()"
      ]
    },
    {
      "cell_type": "code",
      "execution_count": null,
      "id": "643d64e5",
      "metadata": {
        "id": "643d64e5",
        "outputId": "74b290dd-c9eb-4123-d5f8-6f778b81d929"
      },
      "outputs": [
        {
          "data": {
            "text/html": [
              "<div>\n",
              "<style scoped>\n",
              "    .dataframe tbody tr th:only-of-type {\n",
              "        vertical-align: middle;\n",
              "    }\n",
              "\n",
              "    .dataframe tbody tr th {\n",
              "        vertical-align: top;\n",
              "    }\n",
              "\n",
              "    .dataframe thead th {\n",
              "        text-align: right;\n",
              "    }\n",
              "</style>\n",
              "<table border=\"1\" class=\"dataframe\">\n",
              "  <thead>\n",
              "    <tr style=\"text-align: right;\">\n",
              "      <th>day</th>\n",
              "      <th>0.0</th>\n",
              "      <th>1.0</th>\n",
              "      <th>2.0</th>\n",
              "      <th>3.0</th>\n",
              "      <th>4.0</th>\n",
              "      <th>5.0</th>\n",
              "      <th>6.0</th>\n",
              "    </tr>\n",
              "    <tr>\n",
              "      <th>OFNS_DESC</th>\n",
              "      <th></th>\n",
              "      <th></th>\n",
              "      <th></th>\n",
              "      <th></th>\n",
              "      <th></th>\n",
              "      <th></th>\n",
              "      <th></th>\n",
              "    </tr>\n",
              "  </thead>\n",
              "  <tbody>\n",
              "    <tr>\n",
              "      <th>ADMINISTRATIVE CODE</th>\n",
              "      <td>24.0</td>\n",
              "      <td>22.0</td>\n",
              "      <td>15.0</td>\n",
              "      <td>14.0</td>\n",
              "      <td>22.0</td>\n",
              "      <td>16.0</td>\n",
              "      <td>12.0</td>\n",
              "    </tr>\n",
              "    <tr>\n",
              "      <th>AGRICULTURE &amp; MRKTS LAW-UNCLASSIFIED</th>\n",
              "      <td>1.0</td>\n",
              "      <td>1.0</td>\n",
              "      <td>4.0</td>\n",
              "      <td>1.0</td>\n",
              "      <td>0.0</td>\n",
              "      <td>0.0</td>\n",
              "      <td>0.0</td>\n",
              "    </tr>\n",
              "    <tr>\n",
              "      <th>ALCOHOLIC BEVERAGE CONTROL LAW</th>\n",
              "      <td>1.0</td>\n",
              "      <td>0.0</td>\n",
              "      <td>0.0</td>\n",
              "      <td>5.0</td>\n",
              "      <td>1.0</td>\n",
              "      <td>0.0</td>\n",
              "      <td>1.0</td>\n",
              "    </tr>\n",
              "    <tr>\n",
              "      <th>ANTICIPATORY OFFENSES</th>\n",
              "      <td>3.0</td>\n",
              "      <td>0.0</td>\n",
              "      <td>1.0</td>\n",
              "      <td>2.0</td>\n",
              "      <td>0.0</td>\n",
              "      <td>0.0</td>\n",
              "      <td>0.0</td>\n",
              "    </tr>\n",
              "    <tr>\n",
              "      <th>ARSON</th>\n",
              "      <td>4.0</td>\n",
              "      <td>5.0</td>\n",
              "      <td>2.0</td>\n",
              "      <td>3.0</td>\n",
              "      <td>2.0</td>\n",
              "      <td>2.0</td>\n",
              "      <td>5.0</td>\n",
              "    </tr>\n",
              "  </tbody>\n",
              "</table>\n",
              "</div>"
            ],
            "text/plain": [
              "day                                    0.0   1.0   2.0   3.0   4.0   5.0   6.0\n",
              "OFNS_DESC                                                                     \n",
              "ADMINISTRATIVE CODE                   24.0  22.0  15.0  14.0  22.0  16.0  12.0\n",
              "AGRICULTURE & MRKTS LAW-UNCLASSIFIED   1.0   1.0   4.0   1.0   0.0   0.0   0.0\n",
              "ALCOHOLIC BEVERAGE CONTROL LAW         1.0   0.0   0.0   5.0   1.0   0.0   1.0\n",
              "ANTICIPATORY OFFENSES                  3.0   0.0   1.0   2.0   0.0   0.0   0.0\n",
              "ARSON                                  4.0   5.0   2.0   3.0   2.0   2.0   5.0"
            ]
          },
          "execution_count": 81,
          "metadata": {},
          "output_type": "execute_result"
        }
      ],
      "source": [
        "table = pd.pivot_table(dfhis,values ='num',index = 'OFNS_DESC',columns = 'day')\n",
        "table = table.fillna(0)\n",
        "table.head()"
      ]
    },
    {
      "cell_type": "code",
      "execution_count": null,
      "id": "5c2c2c52",
      "metadata": {
        "id": "5c2c2c52",
        "outputId": "678a4851-4a2a-4161-d886-7cf0083d5a77"
      },
      "outputs": [
        {
          "name": "stderr",
          "output_type": "stream",
          "text": [
            "C:\\Users\\13502\\anaconda3\\envs\\geo_env\\lib\\site-packages\\sklearn\\utils\\validation.py:1688: FutureWarning: Feature names only support names that are all strings. Got feature names with dtypes: ['float']. An error will be raised in 1.2.\n",
            "  warnings.warn(\n",
            "C:\\Users\\13502\\anaconda3\\envs\\geo_env\\lib\\site-packages\\sklearn\\utils\\validation.py:1688: FutureWarning: Feature names only support names that are all strings. Got feature names with dtypes: ['float']. An error will be raised in 1.2.\n",
            "  warnings.warn(\n",
            "C:\\Users\\13502\\anaconda3\\envs\\geo_env\\lib\\site-packages\\sklearn\\utils\\validation.py:1688: FutureWarning: Feature names only support names that are all strings. Got feature names with dtypes: ['float']. An error will be raised in 1.2.\n",
            "  warnings.warn(\n",
            "C:\\Users\\13502\\anaconda3\\envs\\geo_env\\lib\\site-packages\\sklearn\\utils\\validation.py:1688: FutureWarning: Feature names only support names that are all strings. Got feature names with dtypes: ['float']. An error will be raised in 1.2.\n",
            "  warnings.warn(\n",
            "C:\\Users\\13502\\anaconda3\\envs\\geo_env\\lib\\site-packages\\sklearn\\utils\\validation.py:1688: FutureWarning: Feature names only support names that are all strings. Got feature names with dtypes: ['float']. An error will be raised in 1.2.\n",
            "  warnings.warn(\n"
          ]
        },
        {
          "name": "stdout",
          "output_type": "stream",
          "text": [
            "For n_clusters = 2 The average silhouette_score is : 0.8772676266300368\n",
            "For n_clusters = 3 The average silhouette_score is : 0.7844388702860965\n",
            "For n_clusters = 4 The average silhouette_score is : 0.7687319197245733\n",
            "For n_clusters = 5 The average silhouette_score is : 0.7116467302733727\n",
            "For n_clusters = 6 The average silhouette_score is : 0.7075921288542075\n"
          ]
        }
      ],
      "source": [
        "range_n_clusters = [2, 3, 4, 5, 6]\n",
        "\n",
        "for n_clusters in range_n_clusters:\n",
        "\n",
        "    clusterer = KMeans(n_clusters=n_clusters, random_state=0).fit(table)\n",
        "\n",
        "    silhouette_avg = silhouette_score(table, clusterer.labels_)\n",
        "    \n",
        "    print(\n",
        "        \"For n_clusters =\",\n",
        "        n_clusters,\n",
        "        \"The average silhouette_score is :\",\n",
        "        silhouette_avg,\n",
        "    )"
      ]
    },
    {
      "cell_type": "code",
      "execution_count": null,
      "id": "e9c3cb4c",
      "metadata": {
        "id": "e9c3cb4c",
        "outputId": "73b66cf0-4656-4f9c-9d7e-0c827497fce4"
      },
      "outputs": [
        {
          "name": "stderr",
          "output_type": "stream",
          "text": [
            "C:\\Users\\13502\\anaconda3\\envs\\geo_env\\lib\\site-packages\\sklearn\\utils\\validation.py:1688: FutureWarning: Feature names only support names that are all strings. Got feature names with dtypes: ['float']. An error will be raised in 1.2.\n",
            "  warnings.warn(\n"
          ]
        },
        {
          "data": {
            "text/plain": [
              "0    50\n",
              "1     3\n",
              "Name: labelk, dtype: int64"
            ]
          },
          "execution_count": 83,
          "metadata": {},
          "output_type": "execute_result"
        }
      ],
      "source": [
        "km=KMeans(random_state=0,n_clusters=2)\n",
        "cluster_labels = km.fit_predict(table)\n",
        "table['labelk']=cluster_labels\n",
        "table['labelk'].value_counts()"
      ]
    },
    {
      "cell_type": "code",
      "execution_count": null,
      "id": "7d4f0b70",
      "metadata": {
        "id": "7d4f0b70",
        "outputId": "af575ab2-fd58-43c6-cf53-2a224c948f93"
      },
      "outputs": [
        {
          "data": {
            "text/html": [
              "<div>\n",
              "<style scoped>\n",
              "    .dataframe tbody tr th:only-of-type {\n",
              "        vertical-align: middle;\n",
              "    }\n",
              "\n",
              "    .dataframe tbody tr th {\n",
              "        vertical-align: top;\n",
              "    }\n",
              "\n",
              "    .dataframe thead th {\n",
              "        text-align: right;\n",
              "    }\n",
              "</style>\n",
              "<table border=\"1\" class=\"dataframe\">\n",
              "  <thead>\n",
              "    <tr style=\"text-align: right;\">\n",
              "      <th>day</th>\n",
              "      <th>0.0</th>\n",
              "      <th>1.0</th>\n",
              "      <th>2.0</th>\n",
              "      <th>3.0</th>\n",
              "      <th>4.0</th>\n",
              "      <th>5.0</th>\n",
              "      <th>6.0</th>\n",
              "      <th>labelk</th>\n",
              "    </tr>\n",
              "    <tr>\n",
              "      <th>OFNS_DESC</th>\n",
              "      <th></th>\n",
              "      <th></th>\n",
              "      <th></th>\n",
              "      <th></th>\n",
              "      <th></th>\n",
              "      <th></th>\n",
              "      <th></th>\n",
              "      <th></th>\n",
              "    </tr>\n",
              "  </thead>\n",
              "  <tbody>\n",
              "    <tr>\n",
              "      <th>ASSAULT 3 &amp; RELATED OFFENSES</th>\n",
              "      <td>1760.0</td>\n",
              "      <td>1595.0</td>\n",
              "      <td>1605.0</td>\n",
              "      <td>1654.0</td>\n",
              "      <td>1885.0</td>\n",
              "      <td>2074.0</td>\n",
              "      <td>2280.0</td>\n",
              "      <td>1</td>\n",
              "    </tr>\n",
              "    <tr>\n",
              "      <th>HARRASSMENT 2</th>\n",
              "      <td>2237.0</td>\n",
              "      <td>2273.0</td>\n",
              "      <td>2254.0</td>\n",
              "      <td>2260.0</td>\n",
              "      <td>2235.0</td>\n",
              "      <td>2318.0</td>\n",
              "      <td>2245.0</td>\n",
              "      <td>1</td>\n",
              "    </tr>\n",
              "    <tr>\n",
              "      <th>PETIT LARCENY</th>\n",
              "      <td>1351.0</td>\n",
              "      <td>1463.0</td>\n",
              "      <td>1491.0</td>\n",
              "      <td>1374.0</td>\n",
              "      <td>1383.0</td>\n",
              "      <td>1183.0</td>\n",
              "      <td>1209.0</td>\n",
              "      <td>1</td>\n",
              "    </tr>\n",
              "  </tbody>\n",
              "</table>\n",
              "</div>"
            ],
            "text/plain": [
              "day                              0.0     1.0     2.0     3.0     4.0     5.0  \\\n",
              "OFNS_DESC                                                                      \n",
              "ASSAULT 3 & RELATED OFFENSES  1760.0  1595.0  1605.0  1654.0  1885.0  2074.0   \n",
              "HARRASSMENT 2                 2237.0  2273.0  2254.0  2260.0  2235.0  2318.0   \n",
              "PETIT LARCENY                 1351.0  1463.0  1491.0  1374.0  1383.0  1183.0   \n",
              "\n",
              "day                              6.0  labelk  \n",
              "OFNS_DESC                                     \n",
              "ASSAULT 3 & RELATED OFFENSES  2280.0       1  \n",
              "HARRASSMENT 2                 2245.0       1  \n",
              "PETIT LARCENY                 1209.0       1  "
            ]
          },
          "execution_count": 84,
          "metadata": {},
          "output_type": "execute_result"
        }
      ],
      "source": [
        "table[table['labelk']==1]"
      ]
    },
    {
      "cell_type": "code",
      "execution_count": null,
      "id": "7d7c920a",
      "metadata": {
        "id": "7d7c920a"
      },
      "outputs": [],
      "source": []
    },
    {
      "cell_type": "code",
      "execution_count": null,
      "id": "5966c7f5",
      "metadata": {
        "id": "5966c7f5",
        "outputId": "9a7913b6-ee84-4fea-95bb-dff5875ee0b0"
      },
      "outputs": [
        {
          "name": "stdout",
          "output_type": "stream",
          "text": [
            "For n_clusters = 2 The average silhouette_score is : 0.8772676310769677\n",
            "For n_clusters = 3 The average silhouette_score is : 0.7844388723477556\n",
            "For n_clusters = 4 The average silhouette_score is : 0.7687319221525376\n",
            "For n_clusters = 5 The average silhouette_score is : 0.7564703747339486\n",
            "For n_clusters = 6 The average silhouette_score is : 0.7291294715393845\n"
          ]
        },
        {
          "name": "stderr",
          "output_type": "stream",
          "text": [
            "C:\\Users\\13502\\anaconda3\\envs\\geo_env\\lib\\site-packages\\sklearn\\utils\\validation.py:1688: FutureWarning: Feature names only support names that are all strings. Got feature names with dtypes: ['float', 'str']. An error will be raised in 1.2.\n",
            "  warnings.warn(\n",
            "C:\\Users\\13502\\anaconda3\\envs\\geo_env\\lib\\site-packages\\sklearn\\utils\\validation.py:1688: FutureWarning: Feature names only support names that are all strings. Got feature names with dtypes: ['float', 'str']. An error will be raised in 1.2.\n",
            "  warnings.warn(\n",
            "C:\\Users\\13502\\anaconda3\\envs\\geo_env\\lib\\site-packages\\sklearn\\utils\\validation.py:1688: FutureWarning: Feature names only support names that are all strings. Got feature names with dtypes: ['float', 'str']. An error will be raised in 1.2.\n",
            "  warnings.warn(\n",
            "C:\\Users\\13502\\anaconda3\\envs\\geo_env\\lib\\site-packages\\sklearn\\utils\\validation.py:1688: FutureWarning: Feature names only support names that are all strings. Got feature names with dtypes: ['float', 'str']. An error will be raised in 1.2.\n",
            "  warnings.warn(\n",
            "C:\\Users\\13502\\anaconda3\\envs\\geo_env\\lib\\site-packages\\sklearn\\utils\\validation.py:1688: FutureWarning: Feature names only support names that are all strings. Got feature names with dtypes: ['float', 'str']. An error will be raised in 1.2.\n",
            "  warnings.warn(\n"
          ]
        }
      ],
      "source": [
        "range_n_clusters = [2, 3, 4, 5, 6]\n",
        "\n",
        "for n_clusters in range_n_clusters:\n",
        "\n",
        "    clusterer = GaussianMixture(n_components=n_clusters, random_state=0).fit_predict(table)\n",
        "\n",
        "    silhouette_avg = silhouette_score(table, clusterer)\n",
        "    \n",
        "    print(\n",
        "        \"For n_clusters =\",\n",
        "        n_clusters,\n",
        "        \"The average silhouette_score is :\",\n",
        "        silhouette_avg,\n",
        "    )"
      ]
    },
    {
      "cell_type": "code",
      "execution_count": null,
      "id": "2b31a1b3",
      "metadata": {
        "id": "2b31a1b3",
        "outputId": "d620304e-ba66-445f-f5d3-7a024d788c0b"
      },
      "outputs": [
        {
          "name": "stderr",
          "output_type": "stream",
          "text": [
            "C:\\Users\\13502\\anaconda3\\envs\\geo_env\\lib\\site-packages\\sklearn\\utils\\validation.py:1688: FutureWarning: Feature names only support names that are all strings. Got feature names with dtypes: ['float', 'str']. An error will be raised in 1.2.\n",
            "  warnings.warn(\n"
          ]
        },
        {
          "data": {
            "text/plain": [
              "0    50\n",
              "1     3\n",
              "Name: labelg, dtype: int64"
            ]
          },
          "execution_count": 87,
          "metadata": {},
          "output_type": "execute_result"
        }
      ],
      "source": [
        "clusterer = GaussianMixture(n_components=2, random_state=0).fit_predict(table)\n",
        "table['labelg']=clusterer\n",
        "table['labelg'].value_counts()"
      ]
    },
    {
      "cell_type": "code",
      "execution_count": null,
      "id": "2a23c2a2",
      "metadata": {
        "id": "2a23c2a2",
        "outputId": "5c79fad6-ed38-4e3e-8cc9-65359dac4b40"
      },
      "outputs": [
        {
          "data": {
            "text/html": [
              "<div>\n",
              "<style scoped>\n",
              "    .dataframe tbody tr th:only-of-type {\n",
              "        vertical-align: middle;\n",
              "    }\n",
              "\n",
              "    .dataframe tbody tr th {\n",
              "        vertical-align: top;\n",
              "    }\n",
              "\n",
              "    .dataframe thead th {\n",
              "        text-align: right;\n",
              "    }\n",
              "</style>\n",
              "<table border=\"1\" class=\"dataframe\">\n",
              "  <thead>\n",
              "    <tr style=\"text-align: right;\">\n",
              "      <th>day</th>\n",
              "      <th>0.0</th>\n",
              "      <th>1.0</th>\n",
              "      <th>2.0</th>\n",
              "      <th>3.0</th>\n",
              "      <th>4.0</th>\n",
              "      <th>5.0</th>\n",
              "      <th>6.0</th>\n",
              "      <th>labelk</th>\n",
              "      <th>labelg</th>\n",
              "    </tr>\n",
              "    <tr>\n",
              "      <th>OFNS_DESC</th>\n",
              "      <th></th>\n",
              "      <th></th>\n",
              "      <th></th>\n",
              "      <th></th>\n",
              "      <th></th>\n",
              "      <th></th>\n",
              "      <th></th>\n",
              "      <th></th>\n",
              "      <th></th>\n",
              "    </tr>\n",
              "  </thead>\n",
              "  <tbody>\n",
              "    <tr>\n",
              "      <th>ASSAULT 3 &amp; RELATED OFFENSES</th>\n",
              "      <td>1760.0</td>\n",
              "      <td>1595.0</td>\n",
              "      <td>1605.0</td>\n",
              "      <td>1654.0</td>\n",
              "      <td>1885.0</td>\n",
              "      <td>2074.0</td>\n",
              "      <td>2280.0</td>\n",
              "      <td>1</td>\n",
              "      <td>1</td>\n",
              "    </tr>\n",
              "    <tr>\n",
              "      <th>HARRASSMENT 2</th>\n",
              "      <td>2237.0</td>\n",
              "      <td>2273.0</td>\n",
              "      <td>2254.0</td>\n",
              "      <td>2260.0</td>\n",
              "      <td>2235.0</td>\n",
              "      <td>2318.0</td>\n",
              "      <td>2245.0</td>\n",
              "      <td>1</td>\n",
              "      <td>1</td>\n",
              "    </tr>\n",
              "    <tr>\n",
              "      <th>PETIT LARCENY</th>\n",
              "      <td>1351.0</td>\n",
              "      <td>1463.0</td>\n",
              "      <td>1491.0</td>\n",
              "      <td>1374.0</td>\n",
              "      <td>1383.0</td>\n",
              "      <td>1183.0</td>\n",
              "      <td>1209.0</td>\n",
              "      <td>1</td>\n",
              "      <td>1</td>\n",
              "    </tr>\n",
              "  </tbody>\n",
              "</table>\n",
              "</div>"
            ],
            "text/plain": [
              "day                              0.0     1.0     2.0     3.0     4.0     5.0  \\\n",
              "OFNS_DESC                                                                      \n",
              "ASSAULT 3 & RELATED OFFENSES  1760.0  1595.0  1605.0  1654.0  1885.0  2074.0   \n",
              "HARRASSMENT 2                 2237.0  2273.0  2254.0  2260.0  2235.0  2318.0   \n",
              "PETIT LARCENY                 1351.0  1463.0  1491.0  1374.0  1383.0  1183.0   \n",
              "\n",
              "day                              6.0  labelk  labelg  \n",
              "OFNS_DESC                                             \n",
              "ASSAULT 3 & RELATED OFFENSES  2280.0       1       1  \n",
              "HARRASSMENT 2                 2245.0       1       1  \n",
              "PETIT LARCENY                 1209.0       1       1  "
            ]
          },
          "execution_count": 88,
          "metadata": {},
          "output_type": "execute_result"
        }
      ],
      "source": [
        "table[table['labelg']==1]"
      ]
    },
    {
      "cell_type": "code",
      "execution_count": null,
      "id": "af356037",
      "metadata": {
        "id": "af356037"
      },
      "outputs": [],
      "source": []
    },
    {
      "cell_type": "code",
      "execution_count": null,
      "id": "809f4354",
      "metadata": {
        "id": "809f4354",
        "outputId": "8cfbafe4-2611-46fa-ee28-fd6ac8cd6e20"
      },
      "outputs": [
        {
          "name": "stdout",
          "output_type": "stream",
          "text": [
            "For n_clusters = 2, the average silhouette_score is : 0.8772676355238984\n",
            "For n_clusters = 3, the average silhouette_score is : 0.8107585384618256\n",
            "For n_clusters = 4, the average silhouette_score is : 0.7984969910432367\n",
            "For n_clusters = 5, the average silhouette_score is : 0.698363008296472\n",
            "For n_clusters = 6, the average silhouette_score is : 0.5117922538646411\n"
          ]
        }
      ],
      "source": [
        "range_n_clusters = range(2,7)\n",
        "Z = linkage(table, 'single')\n",
        "\n",
        "for n_clusters in range_n_clusters:\n",
        "    cluster_labels=fcluster(Z, n_clusters, criterion='maxclust')    \n",
        "    silhouette_avg = silhouette_score(table, cluster_labels)\n",
        "    print(\"For n_clusters = {},\".format(n_clusters)+\" the average silhouette_score is : {}\".format(silhouette_avg))"
      ]
    },
    {
      "cell_type": "code",
      "execution_count": null,
      "id": "ad29f0d6",
      "metadata": {
        "id": "ad29f0d6",
        "outputId": "2bf5484c-1324-44e7-a3b0-3a53e224e2f7"
      },
      "outputs": [
        {
          "data": {
            "text/plain": [
              "1    50\n",
              "2     3\n",
              "Name: labels, dtype: int64"
            ]
          },
          "execution_count": 90,
          "metadata": {},
          "output_type": "execute_result"
        }
      ],
      "source": [
        "Z = linkage(table, 'single')\n",
        "cluster_labels=fcluster(Z, 2, criterion='maxclust')\n",
        "table['labels']=cluster_labels\n",
        "table['labels'].value_counts()"
      ]
    },
    {
      "cell_type": "code",
      "execution_count": null,
      "id": "55be6f09",
      "metadata": {
        "id": "55be6f09",
        "outputId": "d1e01860-95b9-4847-a8bf-7d2976fb2183"
      },
      "outputs": [
        {
          "data": {
            "text/html": [
              "<div>\n",
              "<style scoped>\n",
              "    .dataframe tbody tr th:only-of-type {\n",
              "        vertical-align: middle;\n",
              "    }\n",
              "\n",
              "    .dataframe tbody tr th {\n",
              "        vertical-align: top;\n",
              "    }\n",
              "\n",
              "    .dataframe thead th {\n",
              "        text-align: right;\n",
              "    }\n",
              "</style>\n",
              "<table border=\"1\" class=\"dataframe\">\n",
              "  <thead>\n",
              "    <tr style=\"text-align: right;\">\n",
              "      <th>day</th>\n",
              "      <th>0.0</th>\n",
              "      <th>1.0</th>\n",
              "      <th>2.0</th>\n",
              "      <th>3.0</th>\n",
              "      <th>4.0</th>\n",
              "      <th>5.0</th>\n",
              "      <th>6.0</th>\n",
              "      <th>labelk</th>\n",
              "      <th>labelg</th>\n",
              "      <th>labels</th>\n",
              "    </tr>\n",
              "    <tr>\n",
              "      <th>OFNS_DESC</th>\n",
              "      <th></th>\n",
              "      <th></th>\n",
              "      <th></th>\n",
              "      <th></th>\n",
              "      <th></th>\n",
              "      <th></th>\n",
              "      <th></th>\n",
              "      <th></th>\n",
              "      <th></th>\n",
              "      <th></th>\n",
              "    </tr>\n",
              "  </thead>\n",
              "  <tbody>\n",
              "    <tr>\n",
              "      <th>ASSAULT 3 &amp; RELATED OFFENSES</th>\n",
              "      <td>1760.0</td>\n",
              "      <td>1595.0</td>\n",
              "      <td>1605.0</td>\n",
              "      <td>1654.0</td>\n",
              "      <td>1885.0</td>\n",
              "      <td>2074.0</td>\n",
              "      <td>2280.0</td>\n",
              "      <td>1</td>\n",
              "      <td>1</td>\n",
              "      <td>2</td>\n",
              "    </tr>\n",
              "    <tr>\n",
              "      <th>HARRASSMENT 2</th>\n",
              "      <td>2237.0</td>\n",
              "      <td>2273.0</td>\n",
              "      <td>2254.0</td>\n",
              "      <td>2260.0</td>\n",
              "      <td>2235.0</td>\n",
              "      <td>2318.0</td>\n",
              "      <td>2245.0</td>\n",
              "      <td>1</td>\n",
              "      <td>1</td>\n",
              "      <td>2</td>\n",
              "    </tr>\n",
              "    <tr>\n",
              "      <th>PETIT LARCENY</th>\n",
              "      <td>1351.0</td>\n",
              "      <td>1463.0</td>\n",
              "      <td>1491.0</td>\n",
              "      <td>1374.0</td>\n",
              "      <td>1383.0</td>\n",
              "      <td>1183.0</td>\n",
              "      <td>1209.0</td>\n",
              "      <td>1</td>\n",
              "      <td>1</td>\n",
              "      <td>2</td>\n",
              "    </tr>\n",
              "  </tbody>\n",
              "</table>\n",
              "</div>"
            ],
            "text/plain": [
              "day                              0.0     1.0     2.0     3.0     4.0     5.0  \\\n",
              "OFNS_DESC                                                                      \n",
              "ASSAULT 3 & RELATED OFFENSES  1760.0  1595.0  1605.0  1654.0  1885.0  2074.0   \n",
              "HARRASSMENT 2                 2237.0  2273.0  2254.0  2260.0  2235.0  2318.0   \n",
              "PETIT LARCENY                 1351.0  1463.0  1491.0  1374.0  1383.0  1183.0   \n",
              "\n",
              "day                              6.0  labelk  labelg  labels  \n",
              "OFNS_DESC                                                     \n",
              "ASSAULT 3 & RELATED OFFENSES  2280.0       1       1       2  \n",
              "HARRASSMENT 2                 2245.0       1       1       2  \n",
              "PETIT LARCENY                 1209.0       1       1       2  "
            ]
          },
          "execution_count": 91,
          "metadata": {},
          "output_type": "execute_result"
        }
      ],
      "source": [
        "table[table['labels']==2]"
      ]
    },
    {
      "cell_type": "code",
      "execution_count": null,
      "id": "9ea3deed",
      "metadata": {
        "id": "9ea3deed"
      },
      "outputs": [],
      "source": []
    },
    {
      "cell_type": "code",
      "execution_count": null,
      "id": "746b30bd",
      "metadata": {
        "id": "746b30bd",
        "outputId": "ba49db52-c0fd-4c44-d705-e17d2bc6c220"
      },
      "outputs": [
        {
          "name": "stdout",
          "output_type": "stream",
          "text": [
            "For n_clusters = 2, the average silhouette_score is : 0.8772676399708284\n",
            "For n_clusters = 3, the average silhouette_score is : 0.8107585493066448\n",
            "For n_clusters = 4, the average silhouette_score is : 0.768731927008462\n",
            "For n_clusters = 5, the average silhouette_score is : 0.7413910189579737\n",
            "For n_clusters = 6, the average silhouette_score is : 0.7291294715393845\n"
          ]
        }
      ],
      "source": [
        "range_n_clusters = range(2,7)\n",
        "Z = linkage(table, 'complete')\n",
        "\n",
        "for n_clusters in range_n_clusters:\n",
        "    cluster_labels=fcluster(Z, n_clusters, criterion='maxclust')    \n",
        "    silhouette_avg = silhouette_score(table, cluster_labels)\n",
        "    print(\"For n_clusters = {},\".format(n_clusters)+\" the average silhouette_score is : {}\".format(silhouette_avg))"
      ]
    },
    {
      "cell_type": "code",
      "execution_count": null,
      "id": "f7387139",
      "metadata": {
        "id": "f7387139",
        "outputId": "83b50e71-e9bd-4343-eab2-4f457c6993e2"
      },
      "outputs": [
        {
          "data": {
            "text/plain": [
              "1    50\n",
              "2     3\n",
              "Name: labelc, dtype: int64"
            ]
          },
          "execution_count": 93,
          "metadata": {},
          "output_type": "execute_result"
        }
      ],
      "source": [
        "Z = linkage(table, 'complete')\n",
        "cluster_labels=fcluster(Z, 2, criterion='maxclust')\n",
        "table['labelc']=cluster_labels\n",
        "table['labelc'].value_counts()"
      ]
    },
    {
      "cell_type": "code",
      "execution_count": null,
      "id": "e04c5c71",
      "metadata": {
        "id": "e04c5c71",
        "outputId": "08ffa0dc-05a7-4b9d-bfa9-a8ccd5bb2cc4"
      },
      "outputs": [
        {
          "data": {
            "text/html": [
              "<div>\n",
              "<style scoped>\n",
              "    .dataframe tbody tr th:only-of-type {\n",
              "        vertical-align: middle;\n",
              "    }\n",
              "\n",
              "    .dataframe tbody tr th {\n",
              "        vertical-align: top;\n",
              "    }\n",
              "\n",
              "    .dataframe thead th {\n",
              "        text-align: right;\n",
              "    }\n",
              "</style>\n",
              "<table border=\"1\" class=\"dataframe\">\n",
              "  <thead>\n",
              "    <tr style=\"text-align: right;\">\n",
              "      <th>day</th>\n",
              "      <th>0.0</th>\n",
              "      <th>1.0</th>\n",
              "      <th>2.0</th>\n",
              "      <th>3.0</th>\n",
              "      <th>4.0</th>\n",
              "      <th>5.0</th>\n",
              "      <th>6.0</th>\n",
              "      <th>labelk</th>\n",
              "      <th>labelg</th>\n",
              "      <th>labels</th>\n",
              "      <th>labelc</th>\n",
              "    </tr>\n",
              "    <tr>\n",
              "      <th>OFNS_DESC</th>\n",
              "      <th></th>\n",
              "      <th></th>\n",
              "      <th></th>\n",
              "      <th></th>\n",
              "      <th></th>\n",
              "      <th></th>\n",
              "      <th></th>\n",
              "      <th></th>\n",
              "      <th></th>\n",
              "      <th></th>\n",
              "      <th></th>\n",
              "    </tr>\n",
              "  </thead>\n",
              "  <tbody>\n",
              "    <tr>\n",
              "      <th>ASSAULT 3 &amp; RELATED OFFENSES</th>\n",
              "      <td>1760.0</td>\n",
              "      <td>1595.0</td>\n",
              "      <td>1605.0</td>\n",
              "      <td>1654.0</td>\n",
              "      <td>1885.0</td>\n",
              "      <td>2074.0</td>\n",
              "      <td>2280.0</td>\n",
              "      <td>1</td>\n",
              "      <td>1</td>\n",
              "      <td>2</td>\n",
              "      <td>2</td>\n",
              "    </tr>\n",
              "    <tr>\n",
              "      <th>HARRASSMENT 2</th>\n",
              "      <td>2237.0</td>\n",
              "      <td>2273.0</td>\n",
              "      <td>2254.0</td>\n",
              "      <td>2260.0</td>\n",
              "      <td>2235.0</td>\n",
              "      <td>2318.0</td>\n",
              "      <td>2245.0</td>\n",
              "      <td>1</td>\n",
              "      <td>1</td>\n",
              "      <td>2</td>\n",
              "      <td>2</td>\n",
              "    </tr>\n",
              "    <tr>\n",
              "      <th>PETIT LARCENY</th>\n",
              "      <td>1351.0</td>\n",
              "      <td>1463.0</td>\n",
              "      <td>1491.0</td>\n",
              "      <td>1374.0</td>\n",
              "      <td>1383.0</td>\n",
              "      <td>1183.0</td>\n",
              "      <td>1209.0</td>\n",
              "      <td>1</td>\n",
              "      <td>1</td>\n",
              "      <td>2</td>\n",
              "      <td>2</td>\n",
              "    </tr>\n",
              "  </tbody>\n",
              "</table>\n",
              "</div>"
            ],
            "text/plain": [
              "day                              0.0     1.0     2.0     3.0     4.0     5.0  \\\n",
              "OFNS_DESC                                                                      \n",
              "ASSAULT 3 & RELATED OFFENSES  1760.0  1595.0  1605.0  1654.0  1885.0  2074.0   \n",
              "HARRASSMENT 2                 2237.0  2273.0  2254.0  2260.0  2235.0  2318.0   \n",
              "PETIT LARCENY                 1351.0  1463.0  1491.0  1374.0  1383.0  1183.0   \n",
              "\n",
              "day                              6.0  labelk  labelg  labels  labelc  \n",
              "OFNS_DESC                                                             \n",
              "ASSAULT 3 & RELATED OFFENSES  2280.0       1       1       2       2  \n",
              "HARRASSMENT 2                 2245.0       1       1       2       2  \n",
              "PETIT LARCENY                 1209.0       1       1       2       2  "
            ]
          },
          "execution_count": 94,
          "metadata": {},
          "output_type": "execute_result"
        }
      ],
      "source": [
        "table[table['labelc']==2]"
      ]
    },
    {
      "cell_type": "code",
      "execution_count": null,
      "id": "8f5a5dcb",
      "metadata": {
        "id": "8f5a5dcb"
      },
      "outputs": [],
      "source": []
    },
    {
      "cell_type": "markdown",
      "id": "01d02373",
      "metadata": {
        "id": "01d02373"
      },
      "source": [
        "### Bayesian Network"
      ]
    },
    {
      "cell_type": "code",
      "execution_count": null,
      "id": "f9f8307d",
      "metadata": {
        "id": "f9f8307d",
        "outputId": "791ca454-f2ab-402f-9f05-2836cc0504f3"
      },
      "outputs": [
        {
          "data": {
            "text/html": [
              "<div>\n",
              "<style scoped>\n",
              "    .dataframe tbody tr th:only-of-type {\n",
              "        vertical-align: middle;\n",
              "    }\n",
              "\n",
              "    .dataframe tbody tr th {\n",
              "        vertical-align: top;\n",
              "    }\n",
              "\n",
              "    .dataframe thead th {\n",
              "        text-align: right;\n",
              "    }\n",
              "</style>\n",
              "<table border=\"1\" class=\"dataframe\">\n",
              "  <thead>\n",
              "    <tr style=\"text-align: right;\">\n",
              "      <th></th>\n",
              "      <th>BORO_NM</th>\n",
              "      <th>OFNS_DESC</th>\n",
              "      <th>SUSP_SEX</th>\n",
              "      <th>SUSP_RACE</th>\n",
              "    </tr>\n",
              "  </thead>\n",
              "  <tbody>\n",
              "    <tr>\n",
              "      <th>71</th>\n",
              "      <td>BRONX</td>\n",
              "      <td>ASSAULT 3 &amp; RELATED OFFENSES</td>\n",
              "      <td>M</td>\n",
              "      <td>BLACK</td>\n",
              "    </tr>\n",
              "    <tr>\n",
              "      <th>74</th>\n",
              "      <td>BROOKLYN</td>\n",
              "      <td>MISCELLANEOUS PENAL LAW</td>\n",
              "      <td>M</td>\n",
              "      <td>BLACK</td>\n",
              "    </tr>\n",
              "    <tr>\n",
              "      <th>75</th>\n",
              "      <td>BRONX</td>\n",
              "      <td>HARRASSMENT 2</td>\n",
              "      <td>M</td>\n",
              "      <td>BLACK HISPANIC</td>\n",
              "    </tr>\n",
              "    <tr>\n",
              "      <th>76</th>\n",
              "      <td>QUEENS</td>\n",
              "      <td>GRAND LARCENY</td>\n",
              "      <td>F</td>\n",
              "      <td>WHITE</td>\n",
              "    </tr>\n",
              "    <tr>\n",
              "      <th>77</th>\n",
              "      <td>BRONX</td>\n",
              "      <td>ASSAULT 3 &amp; RELATED OFFENSES</td>\n",
              "      <td>M</td>\n",
              "      <td>WHITE HISPANIC</td>\n",
              "    </tr>\n",
              "  </tbody>\n",
              "</table>\n",
              "</div>"
            ],
            "text/plain": [
              "     BORO_NM                     OFNS_DESC SUSP_SEX       SUSP_RACE\n",
              "71     BRONX  ASSAULT 3 & RELATED OFFENSES        M           BLACK\n",
              "74  BROOKLYN       MISCELLANEOUS PENAL LAW        M           BLACK\n",
              "75     BRONX                 HARRASSMENT 2        M  BLACK HISPANIC\n",
              "76    QUEENS                 GRAND LARCENY        F           WHITE\n",
              "77     BRONX  ASSAULT 3 & RELATED OFFENSES        M  WHITE HISPANIC"
            ]
          },
          "execution_count": 99,
          "metadata": {},
          "output_type": "execute_result"
        }
      ],
      "source": [
        "offense2 = offense[['BORO_NM','OFNS_DESC','SUSP_SEX','SUSP_RACE']]\n",
        "offense2 = offense2[offense2.SUSP_RACE != 'UNKNOWN']\n",
        "offense2 = offense2.dropna()\n",
        "offense2.head()"
      ]
    },
    {
      "cell_type": "code",
      "execution_count": null,
      "id": "de13cc37",
      "metadata": {
        "id": "de13cc37",
        "outputId": "2d5091f1-3742-4618-974e-7f6b45cd03bf"
      },
      "outputs": [
        {
          "data": {
            "text/html": [
              "<div>\n",
              "<style scoped>\n",
              "    .dataframe tbody tr th:only-of-type {\n",
              "        vertical-align: middle;\n",
              "    }\n",
              "\n",
              "    .dataframe tbody tr th {\n",
              "        vertical-align: top;\n",
              "    }\n",
              "\n",
              "    .dataframe thead th {\n",
              "        text-align: right;\n",
              "    }\n",
              "</style>\n",
              "<table border=\"1\" class=\"dataframe\">\n",
              "  <thead>\n",
              "    <tr style=\"text-align: right;\">\n",
              "      <th></th>\n",
              "      <th>BORO_NM</th>\n",
              "      <th>OFNS_DESC</th>\n",
              "      <th>SUSP_SEX</th>\n",
              "      <th>SUSP_RACE</th>\n",
              "    </tr>\n",
              "  </thead>\n",
              "  <tbody>\n",
              "    <tr>\n",
              "      <th>71</th>\n",
              "      <td>0</td>\n",
              "      <td>5</td>\n",
              "      <td>1</td>\n",
              "      <td>2</td>\n",
              "    </tr>\n",
              "    <tr>\n",
              "      <th>74</th>\n",
              "      <td>1</td>\n",
              "      <td>34</td>\n",
              "      <td>1</td>\n",
              "      <td>2</td>\n",
              "    </tr>\n",
              "    <tr>\n",
              "      <th>75</th>\n",
              "      <td>0</td>\n",
              "      <td>25</td>\n",
              "      <td>1</td>\n",
              "      <td>3</td>\n",
              "    </tr>\n",
              "    <tr>\n",
              "      <th>76</th>\n",
              "      <td>3</td>\n",
              "      <td>23</td>\n",
              "      <td>0</td>\n",
              "      <td>4</td>\n",
              "    </tr>\n",
              "    <tr>\n",
              "      <th>77</th>\n",
              "      <td>0</td>\n",
              "      <td>5</td>\n",
              "      <td>1</td>\n",
              "      <td>5</td>\n",
              "    </tr>\n",
              "  </tbody>\n",
              "</table>\n",
              "</div>"
            ],
            "text/plain": [
              "    BORO_NM  OFNS_DESC  SUSP_SEX  SUSP_RACE\n",
              "71        0          5         1          2\n",
              "74        1         34         1          2\n",
              "75        0         25         1          3\n",
              "76        3         23         0          4\n",
              "77        0          5         1          5"
            ]
          },
          "execution_count": 107,
          "metadata": {},
          "output_type": "execute_result"
        }
      ],
      "source": [
        "from sklearn import preprocessing\n",
        "off3 = offense2.copy()\n",
        "le = preprocessing.LabelEncoder()\n",
        "off3.BORO_NM = le.fit_transform(off3.BORO_NM)\n",
        "off3.OFNS_DESC = le.fit_transform(off3.OFNS_DESC)\n",
        "off3.SUSP_SEX = le.fit_transform(off3.SUSP_SEX)\n",
        "off3.SUSP_RACE = le.fit_transform(off3.SUSP_RACE)\n",
        "off3.head()"
      ]
    },
    {
      "cell_type": "code",
      "execution_count": null,
      "id": "7487295d",
      "metadata": {
        "colab": {
          "referenced_widgets": [
            "741e5df9567c4b41bfe7534dff3e1aa7"
          ]
        },
        "id": "7487295d",
        "outputId": "67777ade-36a5-4c67-eb32-bc1c68a2f133"
      },
      "outputs": [
        {
          "data": {
            "application/vnd.jupyter.widget-view+json": {
              "model_id": "741e5df9567c4b41bfe7534dff3e1aa7",
              "version_major": 2,
              "version_minor": 0
            },
            "text/plain": [
              "  0%|          | 0/1000000 [00:00<?, ?it/s]"
            ]
          },
          "metadata": {},
          "output_type": "display_data"
        },
        {
          "name": "stdout",
          "output_type": "stream",
          "text": [
            "[('BORO_NM', 'SUSP_RACE'), ('BORO_NM', 'OFNS_DESC'), ('OFNS_DESC', 'SUSP_SEX')]\n"
          ]
        }
      ],
      "source": [
        "from sklearn.model_selection import train_test_split\n",
        "train,test=train_test_split(off3,random_state=9,test_size=0.4)\n",
        "hc = HillClimbSearch(train)\n",
        "best_model = hc.estimate(scoring_method=BicScore(train))\n",
        "print(best_model.edges())"
      ]
    },
    {
      "cell_type": "code",
      "execution_count": null,
      "id": "f0a7a358",
      "metadata": {
        "id": "f0a7a358",
        "outputId": "19a645d6-029e-4829-a865-42dfd89631d3"
      },
      "outputs": [
        {
          "name": "stdout",
          "output_type": "stream",
          "text": [
            "CPD of BORO_NM:\n",
            "+------------+-----------+\n",
            "| BORO_NM(0) | 0.215094  |\n",
            "+------------+-----------+\n",
            "| BORO_NM(1) | 0.271271  |\n",
            "+------------+-----------+\n",
            "| BORO_NM(2) | 0.265733  |\n",
            "+------------+-----------+\n",
            "| BORO_NM(3) | 0.206857  |\n",
            "+------------+-----------+\n",
            "| BORO_NM(4) | 0.0410454 |\n",
            "+------------+-----------+\n",
            "CPD of SUSP_RACE:\n",
            "+--------------+----------------------+-----+-----------------------+----------------------+\n",
            "| BORO_NM      | BORO_NM(0)           | ... | BORO_NM(3)            | BORO_NM(4)           |\n",
            "+--------------+----------------------+-----+-----------------------+----------------------+\n",
            "| SUSP_RACE(0) | 0.003043289236693373 | ... | 0.0034550679711970035 | 0.004878842088144414 |\n",
            "+--------------+----------------------+-----+-----------------------+----------------------+\n",
            "| SUSP_RACE(1) | 0.015837525619526737 | ... | 0.14311085278827215   | 0.027972027972027972 |\n",
            "+--------------+----------------------+-----+-----------------------+----------------------+\n",
            "| SUSP_RACE(2) | 0.5075771691199304   | ... | 0.4155445768348994    | 0.38396487233696536  |\n",
            "+--------------+----------------------+-----+-----------------------+----------------------+\n",
            "| SUSP_RACE(3) | 0.13716539345382275  | ... | 0.03913591010365204   | 0.03675394373068792  |\n",
            "+--------------+----------------------+-----+-----------------------+----------------------+\n",
            "| SUSP_RACE(4) | 0.04341345258058506  | ... | 0.13513513513513514   | 0.35826963733940476  |\n",
            "+--------------+----------------------+-----+-----------------------+----------------------+\n",
            "| SUSP_RACE(5) | 0.29296316998944166  | ... | 0.2636184571668443    | 0.18816067653276955  |\n",
            "+--------------+----------------------+-----+-----------------------+----------------------+\n",
            "CPD of OFNS_DESC:\n",
            "+---------------+------------------------+-----+------------------------+------------------------+\n",
            "| BORO_NM       | BORO_NM(0)             | ... | BORO_NM(3)             | BORO_NM(4)             |\n",
            "+---------------+------------------------+-----+------------------------+------------------------+\n",
            "| OFNS_DESC(0)  | 0.002232212060145714   | ... | 0.0029011669138031076  | 0.0019348597226701064  |\n",
            "+---------------+------------------------+-----+------------------------+------------------------+\n",
            "| OFNS_DESC(1)  | 6.200589055960317e-05  | ... | 0.0002578815034491651  | 0.0004837149306675266  |\n",
            "+---------------+------------------------+-----+------------------------+------------------------+\n",
            "| OFNS_DESC(2)  | 0.0003410323980778174  | ... | 0.00022564631551801948 | 0.00016123831022250886 |\n",
            "+---------------+------------------------+-----+------------------------+------------------------+\n",
            "| OFNS_DESC(3)  | 0.00027902650751821423 | ... | 6.447037586229128e-05  | 0.00016123831022250886 |\n",
            "+---------------+------------------------+-----+------------------------+------------------------+\n",
            "| OFNS_DESC(4)  | 0.0005580530150364285  | ... | 0.00029011669138031073 | 0.0006449532408900354  |\n",
            "+---------------+------------------------+-----+------------------------+------------------------+\n",
            "| OFNS_DESC(5)  | 0.1880328631219966     | ... | 0.1651408677712591     | 0.14350209609803288    |\n",
            "+---------------+------------------------+-----+------------------------+------------------------+\n",
            "| OFNS_DESC(6)  | 0.00040303828863742054 | ... | 0.000709174134485204   | 0.0003224766204450177  |\n",
            "+---------------+------------------------+-----+------------------------+------------------------+\n",
            "| OFNS_DESC(7)  | 0.01255619283831964    | ... | 0.012603958481077945   | 0.007255723960012899   |\n",
            "+---------------+------------------------+-----+------------------------+------------------------+\n",
            "| OFNS_DESC(8)  | 0.00012401178111920633 | ... | 6.447037586229128e-05  | 0.0003224766204450177  |\n",
            "+---------------+------------------------+-----+------------------------+------------------------+\n",
            "| OFNS_DESC(9)  | 0.06250193768408       | ... | 0.06027980143124234    | 0.06110931957433086    |\n",
            "+---------------+------------------------+-----+------------------------+------------------------+\n",
            "| OFNS_DESC(10) | 0.0026352503487831343  | ... | 0.00657597833795371    | 0.009835536923573042   |\n",
            "+---------------+------------------------+-----+------------------------+------------------------+\n",
            "| OFNS_DESC(11) | 0.029328786234692296   | ... | 0.014505834569015537   | 0.03805224121251209    |\n",
            "+---------------+------------------------+-----+------------------------+------------------------+\n",
            "| OFNS_DESC(12) | 0.011874128042164006   | ... | 0.013442073367287732   | 0.010802966784908094   |\n",
            "+---------------+------------------------+-----+------------------------+------------------------+\n",
            "| OFNS_DESC(13) | 6.200589055960317e-05  | ... | 6.447037586229128e-05  | 0.0006449532408900354  |\n",
            "+---------------+------------------------+-----+------------------------+------------------------+\n",
            "| OFNS_DESC(14) | 3.1002945279801583e-05 | ... | 6.447037586229128e-05  | 0.00016123831022250886 |\n",
            "+---------------+------------------------+-----+------------------------+------------------------+\n",
            "| OFNS_DESC(15) | 9.300883583940474e-05  | ... | 9.670556379343692e-05  | 0.0003224766204450177  |\n",
            "+---------------+------------------------+-----+------------------------+------------------------+\n",
            "| OFNS_DESC(16) | 6.200589055960317e-05  | ... | 6.447037586229128e-05  | 0.00016123831022250886 |\n",
            "+---------------+------------------------+-----+------------------------+------------------------+\n",
            "| OFNS_DESC(17) | 0.08652922027592622    | ... | 0.06895106698472052    | 0.05014511447920026    |\n",
            "+---------------+------------------------+-----+------------------------+------------------------+\n",
            "| OFNS_DESC(18) | 6.200589055960317e-05  | ... | 3.223518793114564e-05  | 0.00016123831022250886 |\n",
            "+---------------+------------------------+-----+------------------------+------------------------+\n",
            "| OFNS_DESC(19) | 0.008680824678344443   | ... | 0.013861130810392624   | 0.011770396646243148   |\n",
            "+---------------+------------------------+-----+------------------------+------------------------+\n",
            "| OFNS_DESC(20) | 0.0008990854131142458  | ... | 0.0011282315775900974  | 0.0019348597226701064  |\n",
            "+---------------+------------------------+-----+------------------------+------------------------+\n",
            "| OFNS_DESC(21) | 0.0001550147263990079  | ... | 3.223518793114564e-05  | 0.00016123831022250886 |\n",
            "+---------------+------------------------+-----+------------------------+------------------------+\n",
            "| OFNS_DESC(22) | 0.0003100294527980158  | ... | 0.0001611759396557282  | 0.00016123831022250886 |\n",
            "+---------------+------------------------+-----+------------------------+------------------------+\n",
            "| OFNS_DESC(23) | 0.026228491706712136   | ... | 0.030268841467345754   | 0.017574975814253466   |\n",
            "+---------------+------------------------+-----+------------------------+------------------------+\n",
            "| OFNS_DESC(24) | 0.006231592001240118   | ... | 0.007156211720714332   | 0.003386004514672686   |\n",
            "+---------------+------------------------+-----+------------------------+------------------------+\n",
            "| OFNS_DESC(25) | 0.2390947139978298     | ... | 0.2450841338405003     | 0.2891002902289584     |\n",
            "+---------------+------------------------+-----+------------------------+------------------------+\n",
            "| OFNS_DESC(26) | 3.1002945279801583e-05 | ... | 3.223518793114564e-05  | 0.00016123831022250886 |\n",
            "+---------------+------------------------+-----+------------------------+------------------------+\n",
            "| OFNS_DESC(27) | 3.1002945279801583e-05 | ... | 6.447037586229128e-05  | 0.00016123831022250886 |\n",
            "+---------------+------------------------+-----+------------------------+------------------------+\n",
            "| OFNS_DESC(28) | 0.0069756626879553555  | ... | 0.010283024950035458   | 0.021605933569816188   |\n",
            "+---------------+------------------------+-----+------------------------+------------------------+\n",
            "| OFNS_DESC(29) | 3.1002945279801583e-05 | ... | 3.223518793114564e-05  | 0.0003224766204450177  |\n",
            "+---------------+------------------------+-----+------------------------+------------------------+\n",
            "| OFNS_DESC(30) | 6.200589055960317e-05  | ... | 6.447037586229128e-05  | 0.00016123831022250886 |\n",
            "+---------------+------------------------+-----+------------------------+------------------------+\n",
            "| OFNS_DESC(31) | 3.1002945279801583e-05 | ... | 6.447037586229128e-05  | 0.00016123831022250886 |\n",
            "+---------------+------------------------+-----+------------------------+------------------------+\n",
            "| OFNS_DESC(32) | 0.00043404123391722215 | ... | 0.00045129263103603896 | 0.00016123831022250886 |\n",
            "+---------------+------------------------+-----+------------------------+------------------------+\n",
            "| OFNS_DESC(33) | 3.1002945279801583e-05 | ... | 3.223518793114564e-05  | 0.00016123831022250886 |\n",
            "+---------------+------------------------+-----+------------------------+------------------------+\n",
            "| OFNS_DESC(34) | 0.028739730274376065   | ... | 0.0569273418864032     | 0.07416962270235408    |\n",
            "+---------------+------------------------+-----+------------------------+------------------------+\n",
            "| OFNS_DESC(35) | 6.200589055960317e-05  | ... | 3.223518793114564e-05  | 0.00016123831022250886 |\n",
            "+---------------+------------------------+-----+------------------------+------------------------+\n",
            "| OFNS_DESC(36) | 0.000744070686715238   | ... | 0.0005802333827606215  | 0.0027410512737826506  |\n",
            "+---------------+------------------------+-----+------------------------+------------------------+\n",
            "| OFNS_DESC(37) | 3.1002945279801583e-05 | ... | 6.447037586229128e-05  | 0.00016123831022250886 |\n",
            "+---------------+------------------------+-----+------------------------+------------------------+\n",
            "| OFNS_DESC(38) | 0.054441171911331576   | ... | 0.03887563664496164    | 0.05546597871654305    |\n",
            "+---------------+------------------------+-----+------------------------+------------------------+\n",
            "| OFNS_DESC(39) | 0.0333281661757867     | ... | 0.013474308555218877   | 0.030151564011609157   |\n",
            "+---------------+------------------------+-----+------------------------+------------------------+\n",
            "| OFNS_DESC(40) | 0.0003100294527980158  | ... | 9.670556379343692e-05  | 0.0008061915511125443  |\n",
            "+---------------+------------------------+-----+------------------------+------------------------+\n",
            "| OFNS_DESC(41) | 0.003193303363819563   | ... | 0.0021597575913867577  | 0.0029022895840051595  |\n",
            "+---------------+------------------------+-----+------------------------+------------------------+\n",
            "| OFNS_DESC(42) | 0.010727019066811347   | ... | 0.006640448713816001   | 0.01870364398581103    |\n",
            "+---------------+------------------------+-----+------------------------+------------------------+\n",
            "| OFNS_DESC(43) | 3.1002945279801583e-05 | ... | 6.447037586229128e-05  | 0.00016123831022250886 |\n",
            "+---------------+------------------------+-----+------------------------+------------------------+\n",
            "| OFNS_DESC(44) | 0.0013951325375910712  | ... | 0.001611759396557282   | 0.001128668171557562   |\n",
            "+---------------+------------------------+-----+------------------------+------------------------+\n",
            "| OFNS_DESC(45) | 3.1002945279801583e-05 | ... | 3.223518793114564e-05  | 0.00016123831022250886 |\n",
            "+---------------+------------------------+-----+------------------------+------------------------+\n",
            "| OFNS_DESC(46) | 0.0008990854131142458  | ... | 0.0007414093224163496  | 0.0014511447920025798  |\n",
            "+---------------+------------------------+-----+------------------------+------------------------+\n",
            "| OFNS_DESC(47) | 0.08414199348938149    | ... | 0.13890142479530657    | 0.08932602386326992    |\n",
            "+---------------+------------------------+-----+------------------------+------------------------+\n",
            "| OFNS_DESC(48) | 3.1002945279801583e-05 | ... | 9.670556379343692e-05  | 0.00016123831022250886 |\n",
            "+---------------+------------------------+-----+------------------------+------------------------+\n",
            "| OFNS_DESC(49) | 0.003627344597736785   | ... | 0.004448455934498098   | 0.0027410512737826506  |\n",
            "+---------------+------------------------+-----+------------------------+------------------------+\n",
            "| OFNS_DESC(50) | 0.00021702061695861108 | ... | 9.670556379343692e-05  | 0.0003224766204450177  |\n",
            "+---------------+------------------------+-----+------------------------+------------------------+\n",
            "| OFNS_DESC(51) | 0.004991474190048055   | ... | 0.005157630068983302   | 0.004030957755562722   |\n",
            "+---------------+------------------------+-----+------------------------+------------------------+\n",
            "| OFNS_DESC(52) | 0.05822353123546737    | ... | 0.03887563664496164    | 0.016123831022250887   |\n",
            "+---------------+------------------------+-----+------------------------+------------------------+\n",
            "| OFNS_DESC(53) | 0.017113625794450475   | ... | 0.02359615756559861    | 0.014995162850693324   |\n",
            "+---------------+------------------------+-----+------------------------+------------------------+\n",
            "| OFNS_DESC(54) | 0.00027902650751821423 | ... | 0.0001611759396557282  | 0.00016123831022250886 |\n",
            "+---------------+------------------------+-----+------------------------+------------------------+\n",
            "| OFNS_DESC(55) | 0.0005890559603162301  | ... | 0.0005479981948294759  | 0.0003224766204450177  |\n",
            "+---------------+------------------------+-----+------------------------+------------------------+\n",
            "| OFNS_DESC(56) | 0.0032553092543791662  | ... | 0.0056411578879504865  | 0.0051596259271202835  |\n",
            "+---------------+------------------------+-----+------------------------+------------------------+\n",
            "| OFNS_DESC(57) | 3.1002945279801583e-05 | ... | 3.223518793114564e-05  | 0.00016123831022250886 |\n",
            "+---------------+------------------------+-----+------------------------+------------------------+\n",
            "| OFNS_DESC(58) | 0.0065726243993179355  | ... | 0.006092450518986526   | 0.0051596259271202835  |\n",
            "+---------------+------------------------+-----+------------------------+------------------------+\n",
            "CPD of SUSP_SEX:\n",
            "+-------------+----------------------+-----+---------------+---------------------+\n",
            "| OFNS_DESC   | OFNS_DESC(0)         | ... | OFNS_DESC(57) | OFNS_DESC(58)       |\n",
            "+-------------+----------------------+-----+---------------+---------------------+\n",
            "| SUSP_SEX(0) | 0.3546099290780142   | ... | 0.25          | 0.1342434584755404  |\n",
            "+-------------+----------------------+-----+---------------+---------------------+\n",
            "| SUSP_SEX(1) | 0.6134751773049646   | ... | 0.5           | 0.7747440273037542  |\n",
            "+-------------+----------------------+-----+---------------+---------------------+\n",
            "| SUSP_SEX(2) | 0.031914893617021274 | ... | 0.25          | 0.09101251422070535 |\n",
            "+-------------+----------------------+-----+---------------+---------------------+\n"
          ]
        },
        {
          "name": "stderr",
          "output_type": "stream",
          "text": [
            "C:\\Users\\13502\\anaconda3\\envs\\geo_env\\lib\\site-packages\\pgmpy\\models\\BayesianModel.py:8: FutureWarning: BayesianModel has been renamed to BayesianNetwork. Please use BayesianNetwork class, BayesianModel will be removed in future.\n",
            "  warnings.warn(\n"
          ]
        }
      ],
      "source": [
        "model = BayesianModel([('BORO_NM', 'SUSP_RACE'), ('BORO_NM', 'OFNS_DESC'), ('OFNS_DESC', 'SUSP_SEX')])\n",
        "model.fit(train, estimator=BayesianEstimator, prior_type='K2')\n",
        "for cpd in model.get_cpds():\n",
        "    print(\"CPD of {variable}:\".format(variable=cpd.variable))\n",
        "    print(cpd)"
      ]
    },
    {
      "cell_type": "code",
      "execution_count": null,
      "id": "488a3a50",
      "metadata": {
        "id": "488a3a50",
        "outputId": "bb6df8f6-5852-476a-db93-c210093d702d"
      },
      "outputs": [
        {
          "name": "stdout",
          "output_type": "stream",
          "text": [
            "+--------------+----------------------+-----+-----------------------+----------------------+\n",
            "| BORO_NM      | BORO_NM(0)           | ... | BORO_NM(3)            | BORO_NM(4)           |\n",
            "+--------------+----------------------+-----+-----------------------+----------------------+\n",
            "| SUSP_RACE(0) | 0.003043289236693373 | ... | 0.0034550679711970035 | 0.004878842088144414 |\n",
            "+--------------+----------------------+-----+-----------------------+----------------------+\n",
            "| SUSP_RACE(1) | 0.015837525619526737 | ... | 0.14311085278827215   | 0.027972027972027972 |\n",
            "+--------------+----------------------+-----+-----------------------+----------------------+\n",
            "| SUSP_RACE(2) | 0.5075771691199304   | ... | 0.4155445768348994    | 0.38396487233696536  |\n",
            "+--------------+----------------------+-----+-----------------------+----------------------+\n",
            "| SUSP_RACE(3) | 0.13716539345382275  | ... | 0.03913591010365204   | 0.03675394373068792  |\n",
            "+--------------+----------------------+-----+-----------------------+----------------------+\n",
            "| SUSP_RACE(4) | 0.04341345258058506  | ... | 0.13513513513513514   | 0.35826963733940476  |\n",
            "+--------------+----------------------+-----+-----------------------+----------------------+\n",
            "| SUSP_RACE(5) | 0.29296316998944166  | ... | 0.2636184571668443    | 0.18816067653276955  |\n",
            "+--------------+----------------------+-----+-----------------------+----------------------+\n"
          ]
        }
      ],
      "source": [
        "print(model.get_cpds('SUSP_RACE'))"
      ]
    },
    {
      "cell_type": "code",
      "execution_count": null,
      "id": "73571ded",
      "metadata": {
        "colab": {
          "referenced_widgets": [
            "a32ea410a5704df49abe2e76ddf7ae5c"
          ]
        },
        "id": "73571ded",
        "outputId": "8f382d55-dae6-4ef4-8aea-fa22260a408f"
      },
      "outputs": [
        {
          "name": "stdout",
          "output_type": "stream",
          "text": [
            "        BORO_NM  OFNS_DESC  SUSP_SEX  SUSP_RACE\n",
            "315058        2          5         1          2\n",
            "368061        2         47         1          2\n",
            "199145        3         53         1          5\n",
            "130980        1         47         0          2\n",
            "142722        1          5         1          5\n"
          ]
        },
        {
          "data": {
            "application/vnd.jupyter.widget-view+json": {
              "model_id": "a32ea410a5704df49abe2e76ddf7ae5c",
              "version_major": 2,
              "version_minor": 0
            },
            "text/plain": [
              "  0%|          | 0/5 [00:00<?, ?it/s]"
            ]
          },
          "metadata": {},
          "output_type": "display_data"
        },
        {
          "name": "stderr",
          "output_type": "stream",
          "text": [
            "C:\\Users\\13502\\anaconda3\\envs\\geo_env\\lib\\site-packages\\pgmpy\\models\\BayesianNetwork.py:747: FutureWarning: Passing a set as an indexer is deprecated and will raise in a future version. Use a list instead.\n",
            "  return data.merge(data_with_results, how=\"left\").loc[:, missing_variables]\n"
          ]
        }
      ],
      "source": [
        "from sklearn.metrics import accuracy_score\n",
        "print(test.head())\n",
        "apred = model.predict(test.loc[:,[\"BORO_NM\"]])"
      ]
    },
    {
      "cell_type": "code",
      "execution_count": null,
      "id": "35e2a3b4",
      "metadata": {
        "id": "35e2a3b4",
        "outputId": "9cfffdb2-3d9f-4bb8-a6ff-ed771ff5c658"
      },
      "outputs": [
        {
          "data": {
            "text/html": [
              "<div>\n",
              "<style scoped>\n",
              "    .dataframe tbody tr th:only-of-type {\n",
              "        vertical-align: middle;\n",
              "    }\n",
              "\n",
              "    .dataframe tbody tr th {\n",
              "        vertical-align: top;\n",
              "    }\n",
              "\n",
              "    .dataframe thead th {\n",
              "        text-align: right;\n",
              "    }\n",
              "</style>\n",
              "<table border=\"1\" class=\"dataframe\">\n",
              "  <thead>\n",
              "    <tr style=\"text-align: right;\">\n",
              "      <th></th>\n",
              "      <th>SUSP_RACE</th>\n",
              "      <th>OFNS_DESC</th>\n",
              "      <th>SUSP_SEX</th>\n",
              "    </tr>\n",
              "  </thead>\n",
              "  <tbody>\n",
              "    <tr>\n",
              "      <th>0</th>\n",
              "      <td>2</td>\n",
              "      <td>47</td>\n",
              "      <td>1</td>\n",
              "    </tr>\n",
              "    <tr>\n",
              "      <th>1</th>\n",
              "      <td>2</td>\n",
              "      <td>47</td>\n",
              "      <td>1</td>\n",
              "    </tr>\n",
              "    <tr>\n",
              "      <th>2</th>\n",
              "      <td>2</td>\n",
              "      <td>25</td>\n",
              "      <td>1</td>\n",
              "    </tr>\n",
              "    <tr>\n",
              "      <th>3</th>\n",
              "      <td>2</td>\n",
              "      <td>25</td>\n",
              "      <td>1</td>\n",
              "    </tr>\n",
              "    <tr>\n",
              "      <th>4</th>\n",
              "      <td>2</td>\n",
              "      <td>25</td>\n",
              "      <td>1</td>\n",
              "    </tr>\n",
              "    <tr>\n",
              "      <th>...</th>\n",
              "      <td>...</td>\n",
              "      <td>...</td>\n",
              "      <td>...</td>\n",
              "    </tr>\n",
              "    <tr>\n",
              "      <th>99785</th>\n",
              "      <td>2</td>\n",
              "      <td>25</td>\n",
              "      <td>1</td>\n",
              "    </tr>\n",
              "    <tr>\n",
              "      <th>99786</th>\n",
              "      <td>2</td>\n",
              "      <td>25</td>\n",
              "      <td>1</td>\n",
              "    </tr>\n",
              "    <tr>\n",
              "      <th>99787</th>\n",
              "      <td>2</td>\n",
              "      <td>47</td>\n",
              "      <td>1</td>\n",
              "    </tr>\n",
              "    <tr>\n",
              "      <th>99788</th>\n",
              "      <td>2</td>\n",
              "      <td>47</td>\n",
              "      <td>1</td>\n",
              "    </tr>\n",
              "    <tr>\n",
              "      <th>99789</th>\n",
              "      <td>2</td>\n",
              "      <td>25</td>\n",
              "      <td>1</td>\n",
              "    </tr>\n",
              "  </tbody>\n",
              "</table>\n",
              "<p>99790 rows × 3 columns</p>\n",
              "</div>"
            ],
            "text/plain": [
              "       SUSP_RACE  OFNS_DESC  SUSP_SEX\n",
              "0              2         47         1\n",
              "1              2         47         1\n",
              "2              2         25         1\n",
              "3              2         25         1\n",
              "4              2         25         1\n",
              "...          ...        ...       ...\n",
              "99785          2         25         1\n",
              "99786          2         25         1\n",
              "99787          2         47         1\n",
              "99788          2         47         1\n",
              "99789          2         25         1\n",
              "\n",
              "[99790 rows x 3 columns]"
            ]
          },
          "execution_count": 116,
          "metadata": {},
          "output_type": "execute_result"
        }
      ],
      "source": [
        "apred"
      ]
    },
    {
      "cell_type": "code",
      "execution_count": null,
      "id": "db4004ba",
      "metadata": {
        "id": "db4004ba",
        "outputId": "146dd42c-c2fd-4d34-9011-44cb66b712b6"
      },
      "outputs": [
        {
          "data": {
            "text/html": [
              "<div>\n",
              "<style scoped>\n",
              "    .dataframe tbody tr th:only-of-type {\n",
              "        vertical-align: middle;\n",
              "    }\n",
              "\n",
              "    .dataframe tbody tr th {\n",
              "        vertical-align: top;\n",
              "    }\n",
              "\n",
              "    .dataframe thead th {\n",
              "        text-align: right;\n",
              "    }\n",
              "</style>\n",
              "<table border=\"1\" class=\"dataframe\">\n",
              "  <thead>\n",
              "    <tr style=\"text-align: right;\">\n",
              "      <th></th>\n",
              "      <th>SUSP_RACE</th>\n",
              "      <th>OFNS_DESC</th>\n",
              "      <th>SUSP_SEX</th>\n",
              "    </tr>\n",
              "  </thead>\n",
              "  <tbody>\n",
              "    <tr>\n",
              "      <th>315058</th>\n",
              "      <td>2</td>\n",
              "      <td>5</td>\n",
              "      <td>1</td>\n",
              "    </tr>\n",
              "    <tr>\n",
              "      <th>368061</th>\n",
              "      <td>2</td>\n",
              "      <td>47</td>\n",
              "      <td>1</td>\n",
              "    </tr>\n",
              "    <tr>\n",
              "      <th>199145</th>\n",
              "      <td>5</td>\n",
              "      <td>53</td>\n",
              "      <td>1</td>\n",
              "    </tr>\n",
              "    <tr>\n",
              "      <th>130980</th>\n",
              "      <td>2</td>\n",
              "      <td>47</td>\n",
              "      <td>0</td>\n",
              "    </tr>\n",
              "    <tr>\n",
              "      <th>142722</th>\n",
              "      <td>5</td>\n",
              "      <td>5</td>\n",
              "      <td>1</td>\n",
              "    </tr>\n",
              "    <tr>\n",
              "      <th>...</th>\n",
              "      <td>...</td>\n",
              "      <td>...</td>\n",
              "      <td>...</td>\n",
              "    </tr>\n",
              "    <tr>\n",
              "      <th>298350</th>\n",
              "      <td>2</td>\n",
              "      <td>17</td>\n",
              "      <td>2</td>\n",
              "    </tr>\n",
              "    <tr>\n",
              "      <th>132944</th>\n",
              "      <td>5</td>\n",
              "      <td>25</td>\n",
              "      <td>0</td>\n",
              "    </tr>\n",
              "    <tr>\n",
              "      <th>16634</th>\n",
              "      <td>4</td>\n",
              "      <td>23</td>\n",
              "      <td>1</td>\n",
              "    </tr>\n",
              "    <tr>\n",
              "      <th>328444</th>\n",
              "      <td>4</td>\n",
              "      <td>9</td>\n",
              "      <td>1</td>\n",
              "    </tr>\n",
              "    <tr>\n",
              "      <th>187466</th>\n",
              "      <td>2</td>\n",
              "      <td>25</td>\n",
              "      <td>1</td>\n",
              "    </tr>\n",
              "  </tbody>\n",
              "</table>\n",
              "<p>99790 rows × 3 columns</p>\n",
              "</div>"
            ],
            "text/plain": [
              "        SUSP_RACE  OFNS_DESC  SUSP_SEX\n",
              "315058          2          5         1\n",
              "368061          2         47         1\n",
              "199145          5         53         1\n",
              "130980          2         47         0\n",
              "142722          5          5         1\n",
              "...           ...        ...       ...\n",
              "298350          2         17         2\n",
              "132944          5         25         0\n",
              "16634           4         23         1\n",
              "328444          4          9         1\n",
              "187466          2         25         1\n",
              "\n",
              "[99790 rows x 3 columns]"
            ]
          },
          "execution_count": 119,
          "metadata": {},
          "output_type": "execute_result"
        }
      ],
      "source": [
        "test.loc[:,['SUSP_RACE','OFNS_DESC','SUSP_SEX']]"
      ]
    },
    {
      "cell_type": "code",
      "execution_count": null,
      "id": "68b8422a",
      "metadata": {
        "id": "68b8422a",
        "outputId": "0580bb17-b7a0-4f2b-aeb8-505d49c4def5"
      },
      "outputs": [
        {
          "name": "stdout",
          "output_type": "stream",
          "text": [
            "out-of-sample accuracy for race is  0.2637037779336607\n",
            "out-of-sample accuracy for offense type is  0.24439322577412567\n",
            "out-of-sample accuracy for sex is  0.7556167952700671\n"
          ]
        }
      ],
      "source": [
        "print('out-of-sample accuracy for race is ',accuracy_score(test.iloc[:,0], apred.iloc[:,0]))\n",
        "print('out-of-sample accuracy for offense type is ',accuracy_score(test.iloc[:,1], apred.iloc[:,1]))\n",
        "print('out-of-sample accuracy for sex is ',accuracy_score(test.iloc[:,2], apred.iloc[:,2]))"
      ]
    },
    {
      "cell_type": "code",
      "execution_count": null,
      "id": "5d924deb",
      "metadata": {
        "id": "5d924deb"
      },
      "outputs": [],
      "source": []
    }
  ],
  "metadata": {
    "kernelspec": {
      "display_name": "geo_env",
      "language": "python",
      "name": "geo_env"
    },
    "language_info": {
      "codemirror_mode": {
        "name": "ipython",
        "version": 3
      },
      "file_extension": ".py",
      "mimetype": "text/x-python",
      "name": "python",
      "nbconvert_exporter": "python",
      "pygments_lexer": "ipython3",
      "version": "3.9.12"
    },
    "colab": {
      "provenance": []
    }
  },
  "nbformat": 4,
  "nbformat_minor": 5
}